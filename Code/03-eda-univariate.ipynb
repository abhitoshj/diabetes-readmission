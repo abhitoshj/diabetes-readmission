{
 "cells": [
  {
   "cell_type": "code",
   "execution_count": 5,
   "metadata": {},
   "outputs": [],
   "source": [
    "import os\n",
    "import pandas as pd\n",
    "import numpy as np\n",
    "import matplotlib.pyplot as plt\n",
    "import seaborn as sns"
   ]
  },
  {
   "cell_type": "code",
   "execution_count": 6,
   "metadata": {},
   "outputs": [],
   "source": [
    "# Definition of paths\n",
    "data_dir = os.path.join(os.getcwd(), '../Dataset')\n",
    "\n",
    "raw_data_dir = os.path.join(data_dir, 'raw')\n",
    "ids_mapping = os.path.join(raw_data_dir, 'IDS_mapping.csv')\n",
    "diabetes_data = os.path.join(raw_data_dir, 'diabetic_data.csv')\n",
    "\n",
    "mapping_data_dir = os.path.join(data_dir, 'Mapping')\n",
    "os.makedirs(mapping_data_dir, exist_ok=True)\n",
    "\n",
    "preprocessed_out_dir = os.path.join(data_dir, 'Preprocessed')\n",
    "os.makedirs(preprocessed_out_dir, exist_ok=True)\n",
    "\n",
    "admission_type_mapping_data = os.path.join(mapping_data_dir, 'admission_type_mapping.csv')\n",
    "discharge_disposition_data = os.path.join(mapping_data_dir, 'discharge_disposition_mapping.csv')\n",
    "admission_source_mapping_data = os.path.join(mapping_data_dir, 'admission_source_mapping.csv')\n",
    "\n",
    "preprocessed_saved_filepath = os.path.join(preprocessed_out_dir, 'preprocessed.pkl')"
   ]
  },
  {
   "cell_type": "code",
   "execution_count": 7,
   "metadata": {},
   "outputs": [],
   "source": [
    "df = pd.read_pickle(preprocessed_saved_filepath)"
   ]
  },
  {
   "cell_type": "code",
   "execution_count": 8,
   "metadata": {},
   "outputs": [
    {
     "name": "stdout",
     "output_type": "stream",
     "text": [
      "<class 'pandas.core.frame.DataFrame'>\n",
      "Index: 71515 entries, 0 to 101765\n",
      "Data columns (total 44 columns):\n",
      " #   Column                    Non-Null Count  Dtype   \n",
      "---  ------                    --------------  -----   \n",
      " 0   encounter_id              71515 non-null  int64   \n",
      " 1   patient_nbr               71515 non-null  int64   \n",
      " 2   race                      71515 non-null  category\n",
      " 3   gender                    71515 non-null  object  \n",
      " 4   age                       71515 non-null  object  \n",
      " 5   admission_type_id         71515 non-null  category\n",
      " 6   discharge_disposition_id  71515 non-null  category\n",
      " 7   admission_source_id       71515 non-null  category\n",
      " 8   time_in_hospital          71515 non-null  int64   \n",
      " 9   medical_specialty         71515 non-null  category\n",
      " 10  num_lab_procedures        71515 non-null  int64   \n",
      " 11  num_procedures            71515 non-null  int64   \n",
      " 12  num_medications           71515 non-null  int64   \n",
      " 13  number_outpatient         71515 non-null  int64   \n",
      " 14  number_emergency          71515 non-null  int64   \n",
      " 15  number_inpatient          71515 non-null  int64   \n",
      " 16  diag_1                    71515 non-null  category\n",
      " 17  diag_2                    71515 non-null  category\n",
      " 18  diag_3                    71515 non-null  category\n",
      " 19  number_diagnoses          71515 non-null  int64   \n",
      " 20  max_glu_serum             71515 non-null  int64   \n",
      " 21  A1Cresult                 71515 non-null  int64   \n",
      " 22  metformin                 71515 non-null  int64   \n",
      " 23  repaglinide               71515 non-null  int64   \n",
      " 24  glimepiride               71515 non-null  int64   \n",
      " 25  glipizide                 71515 non-null  int64   \n",
      " 26  glyburide                 71515 non-null  int64   \n",
      " 27  pioglitazone              71515 non-null  int64   \n",
      " 28  rosiglitazone             71515 non-null  int64   \n",
      " 29  insulin                   71515 non-null  int64   \n",
      " 30  change                    71515 non-null  category\n",
      " 31  diabetesMed               71515 non-null  category\n",
      " 32  readmitted                71515 non-null  category\n",
      " 33  age-binned                71515 non-null  category\n",
      " 34  max_glu_serum_measured    71515 non-null  category\n",
      " 35  A1Cresult_measured        71515 non-null  category\n",
      " 36  repaglinide_measured      71515 non-null  category\n",
      " 37  glimepiride_measured      71515 non-null  category\n",
      " 38  rosiglitazone_measured    71515 non-null  category\n",
      " 39  pioglitazone_measured     71515 non-null  category\n",
      " 40  glyburide_measured        71515 non-null  category\n",
      " 41  glipizide_measured        71515 non-null  category\n",
      " 42  metformin_measured        71515 non-null  category\n",
      " 43  insulin_measured          71515 non-null  category\n",
      "dtypes: category(22), int64(20), object(2)\n",
      "memory usage: 14.3+ MB\n"
     ]
    }
   ],
   "source": [
    "df.info()"
   ]
  },
  {
   "cell_type": "code",
   "execution_count": null,
   "metadata": {},
   "outputs": [],
   "source": []
  }
 ],
 "metadata": {
  "kernelspec": {
   "display_name": "Python 3",
   "language": "python",
   "name": "python3"
  },
  "language_info": {
   "codemirror_mode": {
    "name": "ipython",
    "version": 3
   },
   "file_extension": ".py",
   "mimetype": "text/x-python",
   "name": "python",
   "nbconvert_exporter": "python",
   "pygments_lexer": "ipython3",
   "version": "3.12.1"
  }
 },
 "nbformat": 4,
 "nbformat_minor": 2
}
