{
 "cells": [
  {
   "cell_type": "code",
   "execution_count": 2,
   "metadata": {},
   "outputs": [],
   "source": [
    "import os\n",
    "import pandas as pd\n",
    "import numpy as np\n",
    "import matplotlib.pyplot as plt\n",
    "from sklearn.model_selection import train_test_split\n",
    "from sklearn.linear_model import LogisticRegression\n",
    "from sklearn.model_selection import GridSearchCV\n",
    "from sklearn.metrics import classification_report\n",
    "from sklearn.metrics import confusion_matrix\n",
    "from sklearn.metrics import accuracy_score"
   ]
  },
  {
   "cell_type": "markdown",
   "metadata": {},
   "source": [
    "### Loading file generated from previous step"
   ]
  },
  {
   "cell_type": "code",
   "execution_count": 3,
   "metadata": {},
   "outputs": [],
   "source": [
    "# Definition of paths\n",
    "data_dir = os.path.join(os.getcwd(), '../Dataset')\n",
    "\n",
    "preprocessed_out_dir = os.path.join(data_dir, 'Preprocessed')\n",
    "os.makedirs(preprocessed_out_dir, exist_ok=True)\n",
    "\n",
    "preprocessed_saved_filepath = os.path.join(preprocessed_out_dir, 'preprocessed.pkl')\n",
    "\n",
    "df = pd.read_pickle(preprocessed_saved_filepath)"
   ]
  },
  {
   "cell_type": "code",
   "execution_count": 4,
   "metadata": {},
   "outputs": [
    {
     "name": "stdout",
     "output_type": "stream",
     "text": [
      "<class 'pandas.core.frame.DataFrame'>\n",
      "Index: 69987 entries, 0 to 101765\n",
      "Data columns (total 44 columns):\n",
      " #   Column                    Non-Null Count  Dtype   \n",
      "---  ------                    --------------  -----   \n",
      " 0   encounter_id              69987 non-null  int64   \n",
      " 1   patient_nbr               69987 non-null  int64   \n",
      " 2   race                      69987 non-null  category\n",
      " 3   gender                    69987 non-null  object  \n",
      " 4   age                       69987 non-null  object  \n",
      " 5   admission_type_id         69987 non-null  category\n",
      " 6   discharge_disposition_id  69987 non-null  category\n",
      " 7   admission_source_id       69987 non-null  category\n",
      " 8   time_in_hospital          69987 non-null  int64   \n",
      " 9   medical_specialty         69987 non-null  category\n",
      " 10  num_lab_procedures        69987 non-null  int64   \n",
      " 11  num_procedures            69987 non-null  int64   \n",
      " 12  num_medications           69987 non-null  int64   \n",
      " 13  number_outpatient         69987 non-null  int64   \n",
      " 14  number_emergency          69987 non-null  int64   \n",
      " 15  number_inpatient          69987 non-null  int64   \n",
      " 16  diag_1                    69987 non-null  category\n",
      " 17  diag_2                    69987 non-null  category\n",
      " 18  diag_3                    69987 non-null  category\n",
      " 19  number_diagnoses          69987 non-null  int64   \n",
      " 20  max_glu_serum             69987 non-null  int64   \n",
      " 21  A1Cresult                 69987 non-null  int64   \n",
      " 22  metformin                 69987 non-null  int64   \n",
      " 23  repaglinide               69987 non-null  int64   \n",
      " 24  glimepiride               69987 non-null  int64   \n",
      " 25  glipizide                 69987 non-null  int64   \n",
      " 26  glyburide                 69987 non-null  int64   \n",
      " 27  pioglitazone              69987 non-null  int64   \n",
      " 28  rosiglitazone             69987 non-null  int64   \n",
      " 29  insulin                   69987 non-null  int64   \n",
      " 30  change                    69987 non-null  category\n",
      " 31  diabetesMed               69987 non-null  category\n",
      " 32  readmitted                69987 non-null  category\n",
      " 33  age-binned                69987 non-null  category\n",
      " 34  max_glu_serum_measured    69987 non-null  category\n",
      " 35  A1Cresult_measured        69987 non-null  category\n",
      " 36  repaglinide_measured      69987 non-null  category\n",
      " 37  glimepiride_measured      69987 non-null  category\n",
      " 38  rosiglitazone_measured    69987 non-null  category\n",
      " 39  pioglitazone_measured     69987 non-null  category\n",
      " 40  glyburide_measured        69987 non-null  category\n",
      " 41  glipizide_measured        69987 non-null  category\n",
      " 42  metformin_measured        69987 non-null  category\n",
      " 43  insulin_measured          69987 non-null  category\n",
      "dtypes: category(22), int64(20), object(2)\n",
      "memory usage: 13.8+ MB\n"
     ]
    }
   ],
   "source": [
    "df.info()"
   ]
  },
  {
   "cell_type": "code",
   "execution_count": 5,
   "metadata": {},
   "outputs": [
    {
     "data": {
      "text/html": [
       "<div>\n",
       "<style scoped>\n",
       "    .dataframe tbody tr th:only-of-type {\n",
       "        vertical-align: middle;\n",
       "    }\n",
       "\n",
       "    .dataframe tbody tr th {\n",
       "        vertical-align: top;\n",
       "    }\n",
       "\n",
       "    .dataframe thead th {\n",
       "        text-align: right;\n",
       "    }\n",
       "</style>\n",
       "<table border=\"1\" class=\"dataframe\">\n",
       "  <thead>\n",
       "    <tr style=\"text-align: right;\">\n",
       "      <th></th>\n",
       "      <th>encounter_id</th>\n",
       "      <th>patient_nbr</th>\n",
       "      <th>race</th>\n",
       "      <th>gender</th>\n",
       "      <th>age</th>\n",
       "      <th>admission_type_id</th>\n",
       "      <th>discharge_disposition_id</th>\n",
       "      <th>admission_source_id</th>\n",
       "      <th>time_in_hospital</th>\n",
       "      <th>medical_specialty</th>\n",
       "      <th>...</th>\n",
       "      <th>max_glu_serum_measured</th>\n",
       "      <th>A1Cresult_measured</th>\n",
       "      <th>repaglinide_measured</th>\n",
       "      <th>glimepiride_measured</th>\n",
       "      <th>rosiglitazone_measured</th>\n",
       "      <th>pioglitazone_measured</th>\n",
       "      <th>glyburide_measured</th>\n",
       "      <th>glipizide_measured</th>\n",
       "      <th>metformin_measured</th>\n",
       "      <th>insulin_measured</th>\n",
       "    </tr>\n",
       "  </thead>\n",
       "  <tbody>\n",
       "    <tr>\n",
       "      <th>0</th>\n",
       "      <td>2278392</td>\n",
       "      <td>8222157</td>\n",
       "      <td>Caucasian</td>\n",
       "      <td>Female</td>\n",
       "      <td>[0-10)</td>\n",
       "      <td>6</td>\n",
       "      <td>25</td>\n",
       "      <td>1</td>\n",
       "      <td>1</td>\n",
       "      <td>Pediatrics-Endocrinology</td>\n",
       "      <td>...</td>\n",
       "      <td>No</td>\n",
       "      <td>No</td>\n",
       "      <td>No</td>\n",
       "      <td>No</td>\n",
       "      <td>No</td>\n",
       "      <td>No</td>\n",
       "      <td>No</td>\n",
       "      <td>No</td>\n",
       "      <td>No</td>\n",
       "      <td>No</td>\n",
       "    </tr>\n",
       "    <tr>\n",
       "      <th>1</th>\n",
       "      <td>149190</td>\n",
       "      <td>55629189</td>\n",
       "      <td>Caucasian</td>\n",
       "      <td>Female</td>\n",
       "      <td>[10-20)</td>\n",
       "      <td>1</td>\n",
       "      <td>1</td>\n",
       "      <td>7</td>\n",
       "      <td>3</td>\n",
       "      <td>Unknown</td>\n",
       "      <td>...</td>\n",
       "      <td>No</td>\n",
       "      <td>No</td>\n",
       "      <td>No</td>\n",
       "      <td>No</td>\n",
       "      <td>No</td>\n",
       "      <td>No</td>\n",
       "      <td>No</td>\n",
       "      <td>No</td>\n",
       "      <td>No</td>\n",
       "      <td>Yes</td>\n",
       "    </tr>\n",
       "    <tr>\n",
       "      <th>2</th>\n",
       "      <td>64410</td>\n",
       "      <td>86047875</td>\n",
       "      <td>AfricanAmerican</td>\n",
       "      <td>Female</td>\n",
       "      <td>[20-30)</td>\n",
       "      <td>1</td>\n",
       "      <td>1</td>\n",
       "      <td>7</td>\n",
       "      <td>2</td>\n",
       "      <td>Unknown</td>\n",
       "      <td>...</td>\n",
       "      <td>No</td>\n",
       "      <td>No</td>\n",
       "      <td>No</td>\n",
       "      <td>No</td>\n",
       "      <td>No</td>\n",
       "      <td>No</td>\n",
       "      <td>No</td>\n",
       "      <td>Yes</td>\n",
       "      <td>No</td>\n",
       "      <td>No</td>\n",
       "    </tr>\n",
       "    <tr>\n",
       "      <th>3</th>\n",
       "      <td>500364</td>\n",
       "      <td>82442376</td>\n",
       "      <td>Caucasian</td>\n",
       "      <td>Male</td>\n",
       "      <td>[30-40)</td>\n",
       "      <td>1</td>\n",
       "      <td>1</td>\n",
       "      <td>7</td>\n",
       "      <td>2</td>\n",
       "      <td>Unknown</td>\n",
       "      <td>...</td>\n",
       "      <td>No</td>\n",
       "      <td>No</td>\n",
       "      <td>No</td>\n",
       "      <td>No</td>\n",
       "      <td>No</td>\n",
       "      <td>No</td>\n",
       "      <td>No</td>\n",
       "      <td>No</td>\n",
       "      <td>No</td>\n",
       "      <td>Yes</td>\n",
       "    </tr>\n",
       "    <tr>\n",
       "      <th>4</th>\n",
       "      <td>16680</td>\n",
       "      <td>42519267</td>\n",
       "      <td>Caucasian</td>\n",
       "      <td>Male</td>\n",
       "      <td>[40-50)</td>\n",
       "      <td>1</td>\n",
       "      <td>1</td>\n",
       "      <td>7</td>\n",
       "      <td>1</td>\n",
       "      <td>Unknown</td>\n",
       "      <td>...</td>\n",
       "      <td>No</td>\n",
       "      <td>No</td>\n",
       "      <td>No</td>\n",
       "      <td>No</td>\n",
       "      <td>No</td>\n",
       "      <td>No</td>\n",
       "      <td>No</td>\n",
       "      <td>Yes</td>\n",
       "      <td>No</td>\n",
       "      <td>Yes</td>\n",
       "    </tr>\n",
       "  </tbody>\n",
       "</table>\n",
       "<p>5 rows × 44 columns</p>\n",
       "</div>"
      ],
      "text/plain": [
       "   encounter_id  patient_nbr             race  gender      age  \\\n",
       "0       2278392      8222157        Caucasian  Female   [0-10)   \n",
       "1        149190     55629189        Caucasian  Female  [10-20)   \n",
       "2         64410     86047875  AfricanAmerican  Female  [20-30)   \n",
       "3        500364     82442376        Caucasian    Male  [30-40)   \n",
       "4         16680     42519267        Caucasian    Male  [40-50)   \n",
       "\n",
       "  admission_type_id discharge_disposition_id admission_source_id  \\\n",
       "0                 6                       25                   1   \n",
       "1                 1                        1                   7   \n",
       "2                 1                        1                   7   \n",
       "3                 1                        1                   7   \n",
       "4                 1                        1                   7   \n",
       "\n",
       "   time_in_hospital         medical_specialty  ...  max_glu_serum_measured  \\\n",
       "0                 1  Pediatrics-Endocrinology  ...                      No   \n",
       "1                 3                   Unknown  ...                      No   \n",
       "2                 2                   Unknown  ...                      No   \n",
       "3                 2                   Unknown  ...                      No   \n",
       "4                 1                   Unknown  ...                      No   \n",
       "\n",
       "   A1Cresult_measured  repaglinide_measured  glimepiride_measured  \\\n",
       "0                  No                    No                    No   \n",
       "1                  No                    No                    No   \n",
       "2                  No                    No                    No   \n",
       "3                  No                    No                    No   \n",
       "4                  No                    No                    No   \n",
       "\n",
       "   rosiglitazone_measured  pioglitazone_measured glyburide_measured  \\\n",
       "0                      No                     No                 No   \n",
       "1                      No                     No                 No   \n",
       "2                      No                     No                 No   \n",
       "3                      No                     No                 No   \n",
       "4                      No                     No                 No   \n",
       "\n",
       "  glipizide_measured metformin_measured  insulin_measured  \n",
       "0                 No                 No                No  \n",
       "1                 No                 No               Yes  \n",
       "2                Yes                 No                No  \n",
       "3                 No                 No               Yes  \n",
       "4                Yes                 No               Yes  \n",
       "\n",
       "[5 rows x 44 columns]"
      ]
     },
     "execution_count": 5,
     "metadata": {},
     "output_type": "execute_result"
    }
   ],
   "source": [
    "df.head()"
   ]
  },
  {
   "cell_type": "code",
   "execution_count": 6,
   "metadata": {},
   "outputs": [],
   "source": [
    "#encoding age to numberical category\n",
    "age_categories = [\n",
    "    '[0-10)', '[10-20)', '[20-30)', '[30-40)', '[40-50)', '[50-60)',\n",
    "    '[60-70)', '[70-80)', '[80-90)', '[90-100)'\n",
    "]\n",
    "age_mapping = {category: i for i, category in enumerate(age_categories)}\n",
    "df['age_encoded'] = df['age'].map(age_mapping)"
   ]
  },
  {
   "cell_type": "markdown",
   "metadata": {},
   "source": [
    "### Prepare the data for training"
   ]
  },
  {
   "cell_type": "code",
   "execution_count": 7,
   "metadata": {},
   "outputs": [],
   "source": [
    "y = df['readmitted']\n",
    "X = df[['age_encoded', 'num_procedures', 'num_medications', 'number_outpatient', 'number_inpatient', 'number_inpatient', 'number_diagnoses', 'max_glu_serum', 'A1Cresult', 'time_in_hospital', 'number_emergency']]\n",
    "X_train, X_test, y_train, y_test = train_test_split(X, y,\n",
    "                                                    train_size = 0.8,\n",
    "                                                    stratify = y,\n",
    "                                                    random_state = 123) "
   ]
  },
  {
   "cell_type": "code",
   "execution_count": 8,
   "metadata": {},
   "outputs": [
    {
     "name": "stdout",
     "output_type": "stream",
     "text": [
      "(55989, 11)\n",
      "(13998, 11)\n"
     ]
    }
   ],
   "source": [
    "print(X_train.shape)\n",
    "print(X_test.shape)"
   ]
  },
  {
   "cell_type": "markdown",
   "metadata": {},
   "source": [
    "### Train and Evaluate the model"
   ]
  },
  {
   "cell_type": "code",
   "execution_count": 9,
   "metadata": {},
   "outputs": [],
   "source": [
    "\n",
    "classifier = LogisticRegression()\n",
    "model = classifier.fit(X_train, y_train)\n",
    "y_pred = model.predict(X_test)"
   ]
  },
  {
   "cell_type": "code",
   "execution_count": 10,
   "metadata": {},
   "outputs": [
    {
     "name": "stdout",
     "output_type": "stream",
     "text": [
      "Accuracy: 0.6164452064580654\n"
     ]
    },
    {
     "data": {
      "text/plain": [
       "array([[7549,  747],\n",
       "       [4622, 1080]])"
      ]
     },
     "execution_count": 10,
     "metadata": {},
     "output_type": "execute_result"
    }
   ],
   "source": [
    "accuracy = accuracy_score(y_test, y_pred)\n",
    "print(\"Accuracy:\", accuracy)\n",
    "confusion_matrix(y_test, model.predict(X_test))"
   ]
  },
  {
   "cell_type": "markdown",
   "metadata": {},
   "source": [
    "There is too many false positives, planning to increase the threshold. This will make the model more conservative about predicting a positive class, thereby reducing false positives at the cost of possibly increasing false negatives."
   ]
  },
  {
   "cell_type": "code",
   "execution_count": 11,
   "metadata": {},
   "outputs": [
    {
     "name": "stdout",
     "output_type": "stream",
     "text": [
      "[1066 7230  348 5354]\n"
     ]
    },
    {
     "name": "stdout",
     "output_type": "stream",
     "text": [
      "              precision    recall  f1-score   support\n",
      "\n",
      "          NO       0.75      0.13      0.22      8296\n",
      "         YES       0.43      0.94      0.59      5702\n",
      "\n",
      "    accuracy                           0.46     13998\n",
      "   macro avg       0.59      0.53      0.40     13998\n",
      "weighted avg       0.62      0.46      0.37     13998\n",
      "\n"
     ]
    }
   ],
   "source": [
    "# Get predicted probabilities\n",
    "probs = model.predict_proba(X_test)[:, 1]\n",
    "\n",
    "# Adjust the threshold to 0.40 (instead of 0.5)\n",
    "threshold = 0.30\n",
    "y_pred = (probs >= threshold).astype(int)\n",
    "y_pred_label = ['YES' if pred == 1 else 'NO' for pred in y_pred]\n",
    "\n",
    "# Evaluate\n",
    "print(confusion_matrix(y_test, y_pred_label).ravel())\n",
    "print(classification_report(y_test, y_pred_label))\n"
   ]
  },
  {
   "cell_type": "code",
   "execution_count": 12,
   "metadata": {},
   "outputs": [
    {
     "name": "stdout",
     "output_type": "stream",
     "text": [
      "[1066 7230  348 5354]\n"
     ]
    },
    {
     "name": "stdout",
     "output_type": "stream",
     "text": [
      "              precision    recall  f1-score   support\n",
      "\n",
      "          NO       0.75      0.13      0.22      8296\n",
      "         YES       0.43      0.94      0.59      5702\n",
      "\n",
      "    accuracy                           0.46     13998\n",
      "   macro avg       0.59      0.53      0.40     13998\n",
      "weighted avg       0.62      0.46      0.37     13998\n",
      "\n"
     ]
    }
   ],
   "source": [
    "# Get predicted probabilities\n",
    "probs = model.predict_proba(X_test)[:, 1]\n",
    "\n",
    "# Adjust the threshold to 0.30 (instead of 0.5)\n",
    "threshold = 0.30\n",
    "y_pred = (probs >= threshold).astype(int)\n",
    "y_pred_label = ['YES' if pred == 1 else 'NO' for pred in y_pred]\n",
    "\n",
    "# Evaluate\n",
    "print(confusion_matrix(y_test, y_pred_label).ravel())\n",
    "print(classification_report(y_test, y_pred_label))\n"
   ]
  },
  {
   "cell_type": "markdown",
   "metadata": {},
   "source": [
    "Threshold will tell if the probablity of outcome is greated thant this value we can categorize it into the YES bucket. By reducing the threashold we can increase the number of YES predictions rightly but also will do more number of wrong NO predections that will reduce the accuracy."
   ]
  },
  {
   "cell_type": "markdown",
   "metadata": {},
   "source": [
    "### Hyper parameter tuning"
   ]
  },
  {
   "cell_type": "code",
   "execution_count": 13,
   "metadata": {},
   "outputs": [
    {
     "name": "stdout",
     "output_type": "stream",
     "text": [
      "Fitting 5 folds for each of 720 candidates, totalling 3600 fits\n"
     ]
    },
    {
     "name": "stdout",
     "output_type": "stream",
     "text": [
      "Best hyperparameters found:  {'C': np.float64(0.004832930238571752), 'max_iter': 100, 'penalty': 'l2', 'solver': 'liblinear', 'tol': 0.001}\n"
     ]
    }
   ],
   "source": [
    "# Define Logistic Regression model\n",
    "log_reg = LogisticRegression(max_iter=1000)\n",
    "\n",
    "# Define the hyperparameter grid\n",
    "param_grid = {\n",
    "    'C': np.logspace(-4, 4, 20),         # Regularization strength\n",
    "    'penalty': ['l1', 'l2'],             # Regularization type\n",
    "    'solver': ['liblinear', 'saga'], # Solvers\n",
    "    'max_iter': [100, 200, 300],         # Max iterations\n",
    "    'tol': [1e-4, 1e-3, 1e-2]            # Tolerance for convergence\n",
    "}\n",
    "\n",
    "# Set up GridSearchCV with 5-fold cross-validation\n",
    "grid_search = GridSearchCV(estimator=log_reg, param_grid=param_grid, cv=5, verbose=1, n_jobs=-1, scoring='accuracy')\n",
    "grid_search.fit(X_train, y_train)\n",
    "\n",
    "# Print the best hyperparameters\n",
    "print(\"Best hyperparameters found: \", grid_search.best_params_)"
   ]
  },
  {
   "cell_type": "code",
   "execution_count": 14,
   "metadata": {},
   "outputs": [
    {
     "name": "stdout",
     "output_type": "stream",
     "text": [
      "              precision    recall  f1-score   support\n",
      "\n",
      "          NO       0.62      0.92      0.74      8296\n",
      "         YES       0.60      0.18      0.28      5702\n",
      "\n",
      "    accuracy                           0.62     13998\n",
      "   macro avg       0.61      0.55      0.51     13998\n",
      "weighted avg       0.61      0.62      0.55     13998\n",
      "\n"
     ]
    }
   ],
   "source": [
    "# Get the best model\n",
    "best_log_reg = grid_search.best_estimator_\n",
    "\n",
    "# Evaluate the model on the test set\n",
    "y_pred = best_log_reg.predict(X_test)\n",
    "print(classification_report(y_test, y_pred))"
   ]
  },
  {
   "cell_type": "markdown",
   "metadata": {},
   "source": [
    "Feature engineering"
   ]
  },
  {
   "cell_type": "code",
   "execution_count": 15,
   "metadata": {},
   "outputs": [
    {
     "name": "stdout",
     "output_type": "stream",
     "text": [
      "readmitted          NO        YES\n",
      "age_encoded                      \n",
      "0            82.352941  17.647059\n",
      "1            68.539326  31.460674\n",
      "2            67.885816  32.114184\n",
      "3            67.421991  32.578009\n",
      "4            64.132982  35.867018\n",
      "5            62.642701  37.357299\n",
      "6            59.440337  40.559663\n",
      "7            55.236915  44.763085\n",
      "8            54.446445  45.553555\n",
      "9            63.259512  36.740488\n",
      "readmitted             NO        YES\n",
      "num_procedures                      \n",
      "0               57.595409  42.404591\n",
      "1               59.948560  40.051440\n",
      "2               60.883669  39.116331\n",
      "3               61.318337  38.681663\n",
      "4               59.473151  40.526849\n",
      "5               60.109290  39.890710\n",
      "6               61.924577  38.075423\n",
      "readmitted               NO         YES\n",
      "num_medications                        \n",
      "1                 72.222222   27.777778\n",
      "2                 72.634271   27.365729\n",
      "3                 72.457627   27.542373\n",
      "4                 68.760908   31.239092\n",
      "5                 68.738230   31.261770\n",
      "...                     ...         ...\n",
      "72                 0.000000  100.000000\n",
      "74               100.000000    0.000000\n",
      "75               100.000000    0.000000\n",
      "79               100.000000    0.000000\n",
      "81                 0.000000  100.000000\n",
      "\n",
      "[75 rows x 2 columns]\n",
      "readmitted                 NO         YES\n",
      "number_outpatient                        \n",
      "0                   60.905282   39.094718\n",
      "1                   49.016736   50.983264\n",
      "2                   47.023209   52.976791\n",
      "3                   50.182482   49.817518\n",
      "4                   47.909408   52.090592\n",
      "5                   45.161290   54.838710\n",
      "6                   45.081967   54.918033\n",
      "7                   38.888889   61.111111\n",
      "8                   58.928571   41.071429\n",
      "9                   52.777778   47.222222\n",
      "10                  25.000000   75.000000\n",
      "11                  55.555556   44.444444\n",
      "12                  46.153846   53.846154\n",
      "13                  46.153846   53.846154\n",
      "14                  20.000000   80.000000\n",
      "15                  30.000000   70.000000\n",
      "16                  42.857143   57.142857\n",
      "17                  50.000000   50.000000\n",
      "18                  50.000000   50.000000\n",
      "19                   0.000000  100.000000\n",
      "20                  33.333333   66.666667\n",
      "21                   0.000000  100.000000\n",
      "22                   0.000000  100.000000\n",
      "23                   0.000000  100.000000\n",
      "24                  50.000000   50.000000\n",
      "25                   0.000000  100.000000\n",
      "26                 100.000000    0.000000\n",
      "27                   0.000000  100.000000\n",
      "29                   0.000000  100.000000\n",
      "33                   0.000000  100.000000\n",
      "35                 100.000000    0.000000\n",
      "36                 100.000000    0.000000\n",
      "42                   0.000000  100.000000\n",
      "readmitted               NO         YES\n",
      "number_inpatient                       \n",
      "0                 61.857522   38.142478\n",
      "1                 44.153156   55.846844\n",
      "2                 32.644903   67.355097\n",
      "3                 25.917927   74.082073\n",
      "4                 21.929825   78.070175\n",
      "5                 20.588235   79.411765\n",
      "6                 10.909091   89.090909\n",
      "7                 10.526316   89.473684\n",
      "8                 15.384615   84.615385\n",
      "9                 14.285714   85.714286\n",
      "10                20.000000   80.000000\n",
      "11                 0.000000  100.000000\n",
      "12                 0.000000  100.000000\n",
      "readmitted               NO         YES\n",
      "number_inpatient                       \n",
      "0                 61.857522   38.142478\n",
      "1                 44.153156   55.846844\n",
      "2                 32.644903   67.355097\n",
      "3                 25.917927   74.082073\n",
      "4                 21.929825   78.070175\n",
      "5                 20.588235   79.411765\n",
      "6                 10.909091   89.090909\n",
      "7                 10.526316   89.473684\n",
      "8                 15.384615   84.615385\n",
      "9                 14.285714   85.714286\n",
      "10                20.000000   80.000000\n",
      "11                 0.000000  100.000000\n",
      "12                 0.000000  100.000000\n",
      "readmitted               NO        YES\n",
      "number_diagnoses                      \n",
      "1                 82.383420  17.616580\n",
      "2                 71.509648  28.490352\n",
      "3                 70.216377  29.783623\n",
      "4                 67.304661  32.695339\n",
      "5                 68.344595  31.655405\n",
      "6                 60.626487  39.373513\n",
      "7                 57.900361  42.099639\n",
      "8                 57.434718  42.565282\n",
      "9                 54.570610  45.429390\n",
      "10                66.666667  33.333333\n",
      "11                33.333333  66.666667\n",
      "12                50.000000  50.000000\n",
      "13                60.000000  40.000000\n",
      "14                40.000000  60.000000\n",
      "15                57.142857  42.857143\n",
      "16                70.000000  30.000000\n",
      "readmitted            NO        YES\n",
      "max_glu_serum                      \n",
      "0              59.469072  40.530928\n",
      "1              57.848325  42.151675\n",
      "2              54.059829  45.940171\n",
      "3              50.140449  49.859551\n",
      "readmitted         NO        YES\n",
      "A1Cresult                       \n",
      "0           58.749409  41.250591\n",
      "1           63.592622  36.407378\n",
      "2           61.304955  38.695045\n",
      "3           60.426350  39.573650\n",
      "readmitted               NO        YES\n",
      "time_in_hospital                      \n",
      "1                 64.902560  35.097440\n",
      "2                 61.791020  38.208980\n",
      "3                 60.633955  39.366045\n",
      "4                 58.091903  41.908097\n",
      "5                 57.545902  42.454098\n",
      "6                 56.059406  43.940594\n",
      "7                 55.060210  44.939790\n",
      "8                 53.659395  46.340605\n",
      "9                 53.218210  46.781790\n",
      "10                53.417386  46.582614\n",
      "11                55.172414  44.827586\n",
      "12                54.148472  45.851528\n",
      "13                56.636005  43.363995\n",
      "14                52.959502  47.040498\n",
      "readmitted                NO         YES\n",
      "number_emergency                        \n",
      "0                  60.495330   39.504670\n",
      "1                  46.227144   53.772856\n",
      "2                  37.008872   62.991128\n",
      "3                  36.363636   63.636364\n",
      "4                  24.210526   75.789474\n",
      "5                  31.250000   68.750000\n",
      "6                  26.923077   73.076923\n",
      "7                  12.500000   87.500000\n",
      "8                  33.333333   66.666667\n",
      "9                   0.000000  100.000000\n",
      "10                  0.000000  100.000000\n",
      "11                  0.000000  100.000000\n",
      "13                  0.000000  100.000000\n",
      "16                100.000000    0.000000\n",
      "20                100.000000    0.000000\n",
      "25                100.000000    0.000000\n",
      "37                100.000000    0.000000\n",
      "42                  0.000000  100.000000\n"
     ]
    }
   ],
   "source": [
    "columns = ['age_encoded', 'num_procedures', 'num_medications', 'number_outpatient', 'number_inpatient', 'number_inpatient', 'number_diagnoses', 'max_glu_serum', 'A1Cresult', 'time_in_hospital', 'number_emergency']\n",
    "\n",
    "for column in columns:\n",
    "    bivariate_percentage = df.groupby(column)['readmitted'].value_counts(normalize=True).unstack() * 100\n",
    "    # Optionally, fill NaN with 0 if needed\n",
    "    bivariate_percentage = bivariate_percentage.fillna(0)\n",
    "    print(bivariate_percentage)"
   ]
  },
  {
   "cell_type": "markdown",
   "metadata": {},
   "source": [
    "The class distribution for each value of num_procedures and max_glu_serum is almost similar, these column wont have much impact on final model"
   ]
  },
  {
   "cell_type": "code",
   "execution_count": 16,
   "metadata": {},
   "outputs": [
    {
     "name": "stdout",
     "output_type": "stream",
     "text": [
      "readmitted         NO        YES\n",
      "metformin                       \n",
      "-1          60.689655  39.310345\n",
      " 0          58.655120  41.344880\n",
      " 1          61.437477  38.562523\n",
      " 2          63.069544  36.930456\n",
      "readmitted          NO        YES\n",
      "repaglinide                      \n",
      "-1           57.142857  42.857143\n",
      " 0           59.378891  40.621109\n",
      " 1           49.755501  50.244499\n",
      " 2           56.338028  43.661972\n",
      "readmitted          NO        YES\n",
      "glimepiride                      \n",
      "-1           54.411765  45.588235\n",
      " 0           59.302448  40.697552\n",
      " 1           58.523409  41.476591\n",
      " 2           61.304348  38.695652\n",
      "readmitted         NO        YES\n",
      "glipizide                       \n",
      "-1          50.134771  49.865229\n",
      " 0          59.772377  40.227623\n",
      " 1          56.119033  43.880967\n",
      " 2          55.148342  44.851658\n",
      "readmitted         NO        YES\n",
      "glyburide                       \n",
      "-1          54.066986  45.933014\n",
      " 0          59.401071  40.598929\n",
      " 1          58.428466  41.571534\n",
      " 2          57.911909  42.088091\n",
      "readmitted           NO        YES\n",
      "pioglitazone                      \n",
      "-1            45.679012  54.320988\n",
      " 0            59.472822  40.527178\n",
      " 1            57.091490  42.908510\n",
      " 2            50.000000  50.000000\n",
      "readmitted            NO        YES\n",
      "rosiglitazone                      \n",
      "-1             70.270270  29.729730\n",
      " 0             59.525158  40.474842\n",
      " 1             55.141446  44.858554\n",
      " 2             62.121212  37.878788\n",
      "readmitted         NO        YES\n",
      "insulin                         \n",
      "-1          54.683233  45.316767\n",
      " 0          61.006858  38.993142\n",
      " 1          59.178576  40.821424\n",
      " 2          55.658846  44.341154\n"
     ]
    }
   ],
   "source": [
    "#bivariate analysis as a percentage of final outcome\n",
    "medicine_columns = ['metformin', 'repaglinide', 'glimepiride',\n",
    "                    'glipizide', 'glyburide', 'pioglitazone',\n",
    "                    'rosiglitazone', 'insulin',]\n",
    "for column in medicine_columns:\n",
    "    bivariate_percentage = df.groupby(column)['readmitted'].value_counts(normalize=True).unstack() * 100\n",
    "    # Optionally, fill NaN with 0 if needed\n",
    "    bivariate_percentage = bivariate_percentage.fillna(0)\n",
    "    print(bivariate_percentage)"
   ]
  },
  {
   "cell_type": "markdown",
   "metadata": {},
   "source": []
  },
  {
   "cell_type": "code",
   "execution_count": 17,
   "metadata": {},
   "outputs": [
    {
     "name": "stdout",
     "output_type": "stream",
     "text": [
      "              precision    recall  f1-score   support\n",
      "\n",
      "          NO       0.62      0.92      0.74      8296\n",
      "         YES       0.60      0.18      0.28      5702\n",
      "\n",
      "    accuracy                           0.62     13998\n",
      "   macro avg       0.61      0.55      0.51     13998\n",
      "weighted avg       0.61      0.62      0.55     13998\n",
      "\n"
     ]
    }
   ],
   "source": [
    "y = df['readmitted']\n",
    "X = df[['age_encoded', 'num_medications', 'number_outpatient', 'number_inpatient', 'number_inpatient', 'number_diagnoses', 'A1Cresult', 'time_in_hospital', 'number_emergency']]\n",
    "X_train, X_test, y_train, y_test = train_test_split(X, y,\n",
    "                                                    train_size = 0.8,\n",
    "                                                    stratify = y,\n",
    "                                                    random_state = 123) \n",
    "classifier = LogisticRegression()\n",
    "model = classifier.fit(X_train, y_train)\n",
    "y_pred = model.predict(X_test)\n",
    "print(classification_report(y_test, y_pred))\n"
   ]
  },
  {
   "cell_type": "code",
   "execution_count": 18,
   "metadata": {},
   "outputs": [
    {
     "name": "stdout",
     "output_type": "stream",
     "text": [
      "[6908 1388 4006 1696]\n"
     ]
    },
    {
     "name": "stdout",
     "output_type": "stream",
     "text": [
      "              precision    recall  f1-score   support\n",
      "\n",
      "          NO       0.63      0.83      0.72      8296\n",
      "         YES       0.55      0.30      0.39      5702\n",
      "\n",
      "    accuracy                           0.61     13998\n",
      "   macro avg       0.59      0.57      0.55     13998\n",
      "weighted avg       0.60      0.61      0.58     13998\n",
      "\n"
     ]
    }
   ],
   "source": [
    "# Get predicted probabilities\n",
    "probs = model.predict_proba(X_test)[:, 1]\n",
    "\n",
    "# Adjust the threshold to 0.45 (instead of 0.5) to improve prediction for YES\n",
    "threshold = 0.45\n",
    "y_pred = (probs >= threshold).astype(int)\n",
    "y_pred_label = ['YES' if pred == 1 else 'NO' for pred in y_pred]\n",
    "\n",
    "# Evaluate\n",
    "print(confusion_matrix(y_test, y_pred_label).ravel())\n",
    "print(classification_report(y_test, y_pred_label))\n"
   ]
  },
  {
   "cell_type": "code",
   "execution_count": 19,
   "metadata": {},
   "outputs": [
    {
     "name": "stdout",
     "output_type": "stream",
     "text": [
      "              precision    recall  f1-score   support\n",
      "\n",
      "          NO       0.62      0.91      0.74      8296\n",
      "         YES       0.60      0.19      0.29      5702\n",
      "\n",
      "    accuracy                           0.62     13998\n",
      "   macro avg       0.61      0.55      0.51     13998\n",
      "weighted avg       0.61      0.62      0.56     13998\n",
      "\n"
     ]
    }
   ],
   "source": [
    "#retry with all the medication\n",
    "y = df['readmitted']\n",
    "X = df[['age_encoded', 'num_medications', 'number_outpatient', 'number_inpatient', 'number_inpatient', 'number_diagnoses', \n",
    "                    'A1Cresult', 'time_in_hospital', 'number_emergency', 'metformin', 'repaglinide', 'glimepiride',\n",
    "                    'glipizide', 'glyburide', 'pioglitazone', 'rosiglitazone', 'insulin']]\n",
    "X_train, X_test, y_train, y_test = train_test_split(X, y,\n",
    "                                                    train_size = 0.8,\n",
    "                                                    stratify = y,\n",
    "                                                    random_state = 123) \n",
    "classifier = LogisticRegression()\n",
    "model = classifier.fit(X_train, y_train)\n",
    "y_pred = model.predict(X_test)\n",
    "print(classification_report(y_test, y_pred))\n"
   ]
  },
  {
   "cell_type": "code",
   "execution_count": 20,
   "metadata": {},
   "outputs": [
    {
     "name": "stdout",
     "output_type": "stream",
     "text": [
      "              Feature  Coefficient\n",
      "5    number_diagnoses     0.163243\n",
      "3    number_inpatient     0.152922\n",
      "4    number_inpatient     0.152922\n",
      "8    number_emergency     0.144590\n",
      "0         age_encoded     0.106684\n",
      "2   number_outpatient     0.095219\n",
      "7    time_in_hospital     0.070827\n",
      "15      rosiglitazone     0.051245\n",
      "12          glipizide     0.035153\n",
      "14       pioglitazone     0.028715\n",
      "10        repaglinide     0.021613\n",
      "13          glyburide     0.013433\n",
      "16            insulin     0.008550\n",
      "11        glimepiride    -0.005837\n",
      "6           A1Cresult    -0.011550\n",
      "1     num_medications    -0.019987\n",
      "9           metformin    -0.027218\n"
     ]
    }
   ],
   "source": [
    "coefficients = model.coef_[0]\n",
    "from sklearn.preprocessing import StandardScaler\n",
    "scaler = StandardScaler()\n",
    "X_train_scaled = scaler.fit_transform(X_train)\n",
    " \n",
    "model.fit(X_train_scaled, y_train)\n",
    "coefficients = model.coef_[0]\n",
    " \n",
    "feature_names = X_train.columns\n",
    "feature_importance = pd.DataFrame({\n",
    "    'Feature': feature_names,\n",
    "    'Coefficient': coefficients\n",
    "}).sort_values(by='Coefficient', ascending=False)\n",
    " \n",
    "print(feature_importance)"
   ]
  },
  {
   "cell_type": "code",
   "execution_count": 21,
   "metadata": {},
   "outputs": [
    {
     "data": {
      "image/png": "[encoded data removed]",
      "text/plain": [
       "<Figure size 1000x600 with 1 Axes>"
      ]
     },
     "metadata": {},
     "output_type": "display_data"
    }
   ],
   "source": [
    "import matplotlib.pyplot as plt\n",
    "#Visualize the Feature Importance: For better interpretation\n",
    "plt.figure(figsize=(10, 6))\n",
    "plt.barh(feature_importance['Feature'], feature_importance['Coefficient'])\n",
    "plt.xlabel('Coefficient Value')\n",
    "plt.ylabel('Feature')\n",
    "plt.title('Feature Importance in Logistic Regression')\n",
    "plt.show()"
   ]
  },
  {
   "cell_type": "markdown",
   "metadata": {},
   "source": [
    "The maximum accuracy able to achieve with the logistic LogisticRegression model is .62"
   ]
  }
 ],
 "metadata": {
  "kernelspec": {
   "display_name": "Python 3",
   "language": "python",
   "name": "python3"
  },
  "language_info": {
   "codemirror_mode": {
    "name": "ipython",
    "version": 3
   },
   "file_extension": ".py",
   "mimetype": "text/x-python",
   "name": "python",
   "nbconvert_exporter": "python",
   "pygments_lexer": "ipython3",
   "version": "3.12.1"
  }
 },
 "nbformat": 4,
 "nbformat_minor": 2
}
