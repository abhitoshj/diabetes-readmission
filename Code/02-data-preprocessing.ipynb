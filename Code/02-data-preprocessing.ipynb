{
 "cells": [
  {
   "cell_type": "code",
   "execution_count": 135,
   "metadata": {},
   "outputs": [],
   "source": [
    "import os\n",
    "import pandas as pd\n",
    "import numpy as np\n",
    "import matplotlib.pyplot as plt\n",
    "import seaborn as sns"
   ]
  },
  {
   "cell_type": "code",
   "execution_count": 136,
   "metadata": {},
   "outputs": [],
   "source": [
    "%matplotlib inline"
   ]
  },
  {
   "cell_type": "markdown",
   "metadata": {},
   "source": [
    "## Paths to data"
   ]
  },
  {
   "cell_type": "code",
   "execution_count": 137,
   "metadata": {},
   "outputs": [],
   "source": [
    "# Definition of paths\n",
    "data_dir = os.path.join(os.getcwd(), '../Dataset')\n",
    "\n",
    "raw_data_dir = os.path.join(data_dir, 'raw')\n",
    "ids_mapping = os.path.join(raw_data_dir, 'IDS_mapping.csv')\n",
    "diabetes_data = os.path.join(raw_data_dir, 'diabetic_data.csv')\n",
    "\n",
    "mapping_data_dir = os.path.join(data_dir, 'Mapping')\n",
    "os.makedirs(mapping_data_dir, exist_ok=True)\n",
    "\n",
    "preprocessed_out_dir = os.path.join(data_dir, 'Preprocessed')\n",
    "os.makedirs(preprocessed_out_dir, exist_ok=True)\n",
    "\n",
    "admission_type_mapping_data = os.path.join(mapping_data_dir, 'admission_type_mapping.csv')\n",
    "discharge_disposition_data = os.path.join(mapping_data_dir, 'discharge_disposition_mapping.csv')\n",
    "admission_source_mapping_data = os.path.join(mapping_data_dir, 'admission_source_mapping.csv')\n",
    "\n",
    "preprocessed_saved_filepath = os.path.join(preprocessed_out_dir, 'preprocessed.pkl')"
   ]
  },
  {
   "cell_type": "markdown",
   "metadata": {},
   "source": [
    "## Overview of the data."
   ]
  },
  {
   "cell_type": "code",
   "execution_count": 138,
   "metadata": {},
   "outputs": [],
   "source": [
    "# Lets load the main dataset\n",
    "df = pd.read_csv(diabetes_data)"
   ]
  },
  {
   "cell_type": "code",
   "execution_count": 139,
   "metadata": {},
   "outputs": [
    {
     "name": "stdout",
     "output_type": "stream",
     "text": [
      "<class 'pandas.core.frame.DataFrame'>\n",
      "RangeIndex: 101766 entries, 0 to 101765\n",
      "Data columns (total 50 columns):\n",
      " #   Column                    Non-Null Count   Dtype \n",
      "---  ------                    --------------   ----- \n",
      " 0   encounter_id              101766 non-null  int64 \n",
      " 1   patient_nbr               101766 non-null  int64 \n",
      " 2   race                      101766 non-null  object\n",
      " 3   gender                    101766 non-null  object\n",
      " 4   age                       101766 non-null  object\n",
      " 5   weight                    101766 non-null  object\n",
      " 6   admission_type_id         101766 non-null  int64 \n",
      " 7   discharge_disposition_id  101766 non-null  int64 \n",
      " 8   admission_source_id       101766 non-null  int64 \n",
      " 9   time_in_hospital          101766 non-null  int64 \n",
      " 10  payer_code                101766 non-null  object\n",
      " 11  medical_specialty         101766 non-null  object\n",
      " 12  num_lab_procedures        101766 non-null  int64 \n",
      " 13  num_procedures            101766 non-null  int64 \n",
      " 14  num_medications           101766 non-null  int64 \n",
      " 15  number_outpatient         101766 non-null  int64 \n",
      " 16  number_emergency          101766 non-null  int64 \n",
      " 17  number_inpatient          101766 non-null  int64 \n",
      " 18  diag_1                    101766 non-null  object\n",
      " 19  diag_2                    101766 non-null  object\n",
      " 20  diag_3                    101766 non-null  object\n",
      " 21  number_diagnoses          101766 non-null  int64 \n",
      " 22  max_glu_serum             5346 non-null    object\n",
      " 23  A1Cresult                 17018 non-null   object\n",
      " 24  metformin                 101766 non-null  object\n",
      " 25  repaglinide               101766 non-null  object\n",
      " 26  nateglinide               101766 non-null  object\n",
      " 27  chlorpropamide            101766 non-null  object\n",
      " 28  glimepiride               101766 non-null  object\n",
      " 29  acetohexamide             101766 non-null  object\n",
      " 30  glipizide                 101766 non-null  object\n",
      " 31  glyburide                 101766 non-null  object\n",
      " 32  tolbutamide               101766 non-null  object\n",
      " 33  pioglitazone              101766 non-null  object\n",
      " 34  rosiglitazone             101766 non-null  object\n",
      " 35  acarbose                  101766 non-null  object\n",
      " 36  miglitol                  101766 non-null  object\n",
      " 37  troglitazone              101766 non-null  object\n",
      " 38  tolazamide                101766 non-null  object\n",
      " 39  examide                   101766 non-null  object\n",
      " 40  citoglipton               101766 non-null  object\n",
      " 41  insulin                   101766 non-null  object\n",
      " 42  glyburide-metformin       101766 non-null  object\n",
      " 43  glipizide-metformin       101766 non-null  object\n",
      " 44  glimepiride-pioglitazone  101766 non-null  object\n",
      " 45  metformin-rosiglitazone   101766 non-null  object\n",
      " 46  metformin-pioglitazone    101766 non-null  object\n",
      " 47  change                    101766 non-null  object\n",
      " 48  diabetesMed               101766 non-null  object\n",
      " 49  readmitted                101766 non-null  object\n",
      "dtypes: int64(13), object(37)\n",
      "memory usage: 38.8+ MB\n"
     ]
    }
   ],
   "source": [
    "df.info()"
   ]
  },
  {
   "cell_type": "markdown",
   "metadata": {},
   "source": [
    "### Column Description ##\n",
    "**Encounter ID:** Unique identifier of an encounter\n",
    "\n",
    "**Patient number:** Unique identifier of a patient\n",
    "\n",
    "**Race Values:** Caucasian, Asian, African American, Hispanic, and other\n",
    "\n",
    "**Gender Values:** male, female, and unknown/invalid\n",
    "\n",
    "**Age:** Grouped in 10-year intervals: 0, 10), 10, 20), …, 90, 100)\n",
    "\n",
    "**Weight:** Weight in pounds\n",
    "\n",
    "**Admission type:** Integer identifier corresponding to 9 distinct values, for example, emergency, urgent, elective, newborn, and not available\n",
    "\n",
    "**Discharge disposition:** Integer identifier corresponding to 29 distinct values, for example, discharged to home, expired, and not available\n",
    "\n",
    "**Admission source:** Integer identifier corresponding to 21 distinct values, for example, physician referral, emergency room, and transfer from a hospital\n",
    "\n",
    "**Time in hospital:** Integer number of days between admission and discharge\n",
    "\n",
    "**Payer code:** Integer identifier corresponding to 23 distinct values, for example, Blue Cross/Blue Shield, Medicare, and self-pay Medical\n",
    "\n",
    "**Medical specialty:** Integer identifier of a specialty of the admitting physician, corresponding to 84 distinct values, for example, cardiology, internal medicine, family/general practice, and surgeon\n",
    "\n",
    "**Number of lab procedures:** Number of lab tests performed during the encounter\n",
    "\n",
    "**Number of procedures:** Numeric Number of procedures (other than lab tests) performed during the encounter\n",
    "\n",
    "**Number of medications:** Number of distinct generic names administered during the encounter\n",
    "\n",
    "**Number of outpatient visits:** Number of outpatient visits of the patient in the year preceding the encounter\n",
    "\n",
    "**Number of emergency visits:** Number of emergency visits of the patient in the year preceding the encounter\n",
    "\n",
    "**Number of inpatient visits:** Number of inpatient visits of the patient in the year preceding the encounter\n",
    "\n",
    "**Diagnosis 1:** The primary diagnosis (coded as first three digits of ICD9); 848 distinct values\n",
    "\n",
    "**Diagnosis 2:** Secondary diagnosis (coded as first three digits of ICD9); 923 distinct values\n",
    "\n",
    "**Diagnosis 3:** Additional secondary diagnosis (coded as first three digits of ICD9); 954 distinct values\n",
    "\n",
    "**Number of diagnoses:** Number of diagnoses entered to the system 0%\n",
    "\n",
    "**Glucose serum test:** result Indicates the range of the result or if the test was not taken. Values: “>200,” “>300,” “normal,” and “none” if not measured\n",
    "\n",
    "**A1c test result:** Indicates the range of the result or if the test was not taken. Values: “>8” if the result was greater than 8%, “>7” if the result was greater than 7% but less than 8%, “normal” if the result was less than 7%, and “none” if not measured.\n",
    "\n",
    "**Change of medications:** Indicates if there was a change in diabetic medications (either dosage or generic name). Values: “change” and “no change”\n",
    "\n",
    "**Diabetes medications:** Indicates if there was any diabetic medication prescribed. Values: “yes” and “no” 24 features for medications For the generic names: *metformin, repaglinide, nateglinide, chlorpropamide, glimepiride, acetohexamide, glipizide, glyburide, tolbutamide, pioglitazone, rosiglitazone, acarbose, miglitol, troglitazone, tolazamide, examide, sitagliptin, insulin, glyburide-metformin, glipizide-metformin, glimepiride- pioglitazone, metformin-rosiglitazone, and metformin- pioglitazone*, the feature indicates whether the drug was prescribed or there was a change in the dosage. Values: “up” if the dosage was increased during the encounter, “down” if the dosage was decreased, “steady” if the dosage did not change, and “no” if the drug was not prescribed\n",
    "\n",
    "**Readmitted:** Days to inpatient readmission. Values: “<30” if the patient was readmitted in less than 30 days, “>30” if the patient was readmitted in more than 30 days, and “No” for no record of readmission"
   ]
  },
  {
   "cell_type": "markdown",
   "metadata": {},
   "source": [
    "## Cleaning up NaNs"
   ]
  },
  {
   "cell_type": "markdown",
   "metadata": {},
   "source": [
    "### Handling missing values."
   ]
  },
  {
   "cell_type": "markdown",
   "metadata": {},
   "source": [
    "In the dataset, there are \"?\" sign that represented the NaN values. We shall replace that with np.nan."
   ]
  },
  {
   "cell_type": "code",
   "execution_count": 140,
   "metadata": {},
   "outputs": [
    {
     "data": {
      "text/plain": [
       "race                  2273\n",
       "weight               98569\n",
       "payer_code           40256\n",
       "medical_specialty    49949\n",
       "diag_1                  21\n",
       "diag_2                 358\n",
       "diag_3                1423\n",
       "dtype: int64"
      ]
     },
     "execution_count": 140,
     "metadata": {},
     "output_type": "execute_result"
    }
   ],
   "source": [
    "# find out how many columns have '?' and the count of such values in different columns\n",
    "na_summary = (df == '?').sum()\n",
    "na_summary[na_summary != 0]"
   ]
  },
  {
   "cell_type": "code",
   "execution_count": 141,
   "metadata": {},
   "outputs": [],
   "source": [
    "# Replace all ?s with NaN\n",
    "df.replace('?', pd.NA, inplace=True)"
   ]
  },
  {
   "cell_type": "markdown",
   "metadata": {},
   "source": [
    "### Columns with NaNs"
   ]
  },
  {
   "cell_type": "code",
   "execution_count": 142,
   "metadata": {},
   "outputs": [
    {
     "data": {
      "text/plain": [
       "race                  2273\n",
       "weight               98569\n",
       "payer_code           40256\n",
       "medical_specialty    49949\n",
       "diag_1                  21\n",
       "diag_2                 358\n",
       "diag_3                1423\n",
       "max_glu_serum        96420\n",
       "A1Cresult            84748\n",
       "dtype: int64"
      ]
     },
     "execution_count": 142,
     "metadata": {},
     "output_type": "execute_result"
    }
   ],
   "source": [
    "# lets look at columns with NaNs\n",
    "columns_with_nans = df.isna().sum()\n",
    "columns_with_nans[columns_with_nans != 0]"
   ]
  },
  {
   "cell_type": "markdown",
   "metadata": {},
   "source": [
    "### Helper functions"
   ]
  },
  {
   "cell_type": "code",
   "execution_count": 143,
   "metadata": {},
   "outputs": [],
   "source": [
    "def analyzeColumn(df, columnName):\n",
    "    print(f'Column name: {columnName}')\n",
    "    print(f'Data type: {df[columnName].dtype}')\n",
    "\n",
    "    print()\n",
    "    naSum = df[columnName].isna().sum()\n",
    "    print(f'Count of NAs: {naSum}, %NAs = {naSum/len(df[columnName])*100}')\n",
    "\n",
    "    print()\n",
    "    uniqueValues = df[columnName].unique()\n",
    "    print(f'Number of unique values: {len(uniqueValues)}')\n",
    "\n",
    "    print()\n",
    "    print('Unique values: ')\n",
    "    print(f'{uniqueValues}')\n",
    "\n",
    "    print()\n",
    "    print('ValueCounts: ')\n",
    "    print(df[columnName].value_counts())\n",
    "\n",
    "    print()\n",
    "    print('ValueCounts: Normalized')\n",
    "    print(df[columnName].value_counts(normalize = True))"
   ]
  },
  {
   "cell_type": "markdown",
   "metadata": {},
   "source": [
    "### Column: 'race'"
   ]
  },
  {
   "cell_type": "code",
   "execution_count": 144,
   "metadata": {},
   "outputs": [
    {
     "name": "stdout",
     "output_type": "stream",
     "text": [
      "Column name: race\n",
      "Data type: object\n",
      "\n",
      "Count of NAs: 2273, %NAs = 2.2335554114340743\n",
      "\n",
      "Number of unique values: 6\n",
      "\n",
      "Unique values: \n",
      "['Caucasian' 'AfricanAmerican' <NA> 'Other' 'Asian' 'Hispanic']\n",
      "\n",
      "ValueCounts: \n",
      "race\n",
      "Caucasian          76099\n",
      "AfricanAmerican    19210\n",
      "Hispanic            2037\n",
      "Other               1506\n",
      "Asian                641\n",
      "Name: count, dtype: int64\n",
      "\n",
      "ValueCounts: Normalized\n",
      "race\n",
      "Caucasian          0.764868\n",
      "AfricanAmerican    0.193079\n",
      "Hispanic           0.020474\n",
      "Other              0.015137\n",
      "Asian              0.006443\n",
      "Name: proportion, dtype: float64\n"
     ]
    }
   ],
   "source": [
    "analyzeColumn(df, 'race')"
   ]
  },
  {
   "cell_type": "code",
   "execution_count": 145,
   "metadata": {},
   "outputs": [],
   "source": [
    "# Lets convert NAs to \"Unknown\" and also convert the column to categorical\n",
    "df['race'] = df['race'].fillna('Unknown')\n",
    "df['race'] = df['race'].astype('category')"
   ]
  },
  {
   "cell_type": "markdown",
   "metadata": {},
   "source": [
    "### Column: 'Weight'"
   ]
  },
  {
   "cell_type": "code",
   "execution_count": 146,
   "metadata": {},
   "outputs": [
    {
     "name": "stdout",
     "output_type": "stream",
     "text": [
      "Column name: weight\n",
      "Data type: object\n",
      "\n",
      "Count of NAs: 98569, %NAs = 96.85847925633315\n",
      "\n",
      "Number of unique values: 10\n",
      "\n",
      "Unique values: \n",
      "[<NA> '[75-100)' '[50-75)' '[0-25)' '[100-125)' '[25-50)' '[125-150)'\n",
      " '[175-200)' '[150-175)' '>200']\n",
      "\n",
      "ValueCounts: \n",
      "weight\n",
      "[75-100)     1336\n",
      "[50-75)       897\n",
      "[100-125)     625\n",
      "[125-150)     145\n",
      "[25-50)        97\n",
      "[0-25)         48\n",
      "[150-175)      35\n",
      "[175-200)      11\n",
      ">200            3\n",
      "Name: count, dtype: int64\n",
      "\n",
      "ValueCounts: Normalized\n",
      "weight\n",
      "[75-100)     0.417892\n",
      "[50-75)      0.280576\n",
      "[100-125)    0.195496\n",
      "[125-150)    0.045355\n",
      "[25-50)      0.030341\n",
      "[0-25)       0.015014\n",
      "[150-175)    0.010948\n",
      "[175-200)    0.003441\n",
      ">200         0.000938\n",
      "Name: proportion, dtype: float64\n"
     ]
    }
   ],
   "source": [
    "analyzeColumn(df, 'weight')"
   ]
  },
  {
   "cell_type": "markdown",
   "metadata": {},
   "source": [
    "~96% of rows have missing values, lets drop this column"
   ]
  },
  {
   "cell_type": "code",
   "execution_count": 147,
   "metadata": {},
   "outputs": [],
   "source": [
    "df = df.drop(columns = 'weight')"
   ]
  },
  {
   "cell_type": "markdown",
   "metadata": {},
   "source": [
    "### Column : 'payer_code'"
   ]
  },
  {
   "cell_type": "code",
   "execution_count": 148,
   "metadata": {},
   "outputs": [
    {
     "name": "stdout",
     "output_type": "stream",
     "text": [
      "Column name: payer_code\n",
      "Data type: object\n",
      "\n",
      "Count of NAs: 40256, %NAs = 39.5574160328597\n",
      "\n",
      "Number of unique values: 18\n",
      "\n",
      "Unique values: \n",
      "[<NA> 'MC' 'MD' 'HM' 'UN' 'BC' 'SP' 'CP' 'SI' 'DM' 'CM' 'CH' 'PO' 'WC'\n",
      " 'OT' 'OG' 'MP' 'FR']\n",
      "\n",
      "ValueCounts: \n",
      "payer_code\n",
      "MC    32439\n",
      "HM     6274\n",
      "SP     5007\n",
      "BC     4655\n",
      "MD     3532\n",
      "CP     2533\n",
      "UN     2448\n",
      "CM     1937\n",
      "OG     1033\n",
      "PO      592\n",
      "DM      549\n",
      "CH      146\n",
      "WC      135\n",
      "OT       95\n",
      "MP       79\n",
      "SI       55\n",
      "FR        1\n",
      "Name: count, dtype: int64\n",
      "\n",
      "ValueCounts: Normalized\n",
      "payer_code\n",
      "MC    0.527378\n",
      "HM    0.102000\n",
      "SP    0.081401\n",
      "BC    0.075679\n",
      "MD    0.057422\n",
      "CP    0.041180\n",
      "UN    0.039798\n",
      "CM    0.031491\n",
      "OG    0.016794\n",
      "PO    0.009624\n",
      "DM    0.008925\n",
      "CH    0.002374\n",
      "WC    0.002195\n",
      "OT    0.001544\n",
      "MP    0.001284\n",
      "SI    0.000894\n",
      "FR    0.000016\n",
      "Name: proportion, dtype: float64\n"
     ]
    }
   ],
   "source": [
    "analyzeColumn(df, 'payer_code')"
   ]
  },
  {
   "cell_type": "markdown",
   "metadata": {},
   "source": [
    "The column has a high percentage of NaN values. Furthermore the column is unlikely to contribute to the outcome.\n",
    "We will drop the column."
   ]
  },
  {
   "cell_type": "code",
   "execution_count": 149,
   "metadata": {},
   "outputs": [],
   "source": [
    "df = df.drop(columns='payer_code')"
   ]
  },
  {
   "cell_type": "markdown",
   "metadata": {},
   "source": [
    "### Column: 'medical_specialty'"
   ]
  },
  {
   "cell_type": "code",
   "execution_count": 150,
   "metadata": {},
   "outputs": [
    {
     "name": "stdout",
     "output_type": "stream",
     "text": [
      "Column name: medical_specialty\n",
      "Data type: object\n",
      "\n",
      "Count of NAs: 49949, %NAs = 49.08220820313268\n",
      "\n",
      "Number of unique values: 73\n",
      "\n",
      "Unique values: \n",
      "['Pediatrics-Endocrinology' <NA> 'InternalMedicine'\n",
      " 'Family/GeneralPractice' 'Cardiology' 'Surgery-General' 'Orthopedics'\n",
      " 'Gastroenterology' 'Surgery-Cardiovascular/Thoracic' 'Nephrology'\n",
      " 'Orthopedics-Reconstructive' 'Psychiatry' 'Emergency/Trauma'\n",
      " 'Pulmonology' 'Surgery-Neuro' 'Obsterics&Gynecology-GynecologicOnco'\n",
      " 'ObstetricsandGynecology' 'Pediatrics' 'Hematology/Oncology'\n",
      " 'Otolaryngology' 'Surgery-Colon&Rectal' 'Pediatrics-CriticalCare'\n",
      " 'Endocrinology' 'Urology' 'Psychiatry-Child/Adolescent'\n",
      " 'Pediatrics-Pulmonology' 'Neurology' 'Anesthesiology-Pediatric'\n",
      " 'Radiology' 'Pediatrics-Hematology-Oncology' 'Psychology' 'Podiatry'\n",
      " 'Gynecology' 'Oncology' 'Pediatrics-Neurology' 'Surgery-Plastic'\n",
      " 'Surgery-Thoracic' 'Surgery-PlasticwithinHeadandNeck' 'Ophthalmology'\n",
      " 'Surgery-Pediatric' 'Pediatrics-EmergencyMedicine'\n",
      " 'PhysicalMedicineandRehabilitation' 'InfectiousDiseases' 'Anesthesiology'\n",
      " 'Rheumatology' 'AllergyandImmunology' 'Surgery-Maxillofacial'\n",
      " 'Pediatrics-InfectiousDiseases' 'Pediatrics-AllergyandImmunology'\n",
      " 'Dentistry' 'Surgeon' 'Surgery-Vascular' 'Osteopath'\n",
      " 'Psychiatry-Addictive' 'Surgery-Cardiovascular' 'PhysicianNotFound'\n",
      " 'Hematology' 'Proctology' 'Obstetrics' 'SurgicalSpecialty' 'Radiologist'\n",
      " 'Pathology' 'Dermatology' 'SportsMedicine' 'Speech' 'Hospitalist'\n",
      " 'OutreachServices' 'Cardiology-Pediatric' 'Perinatology'\n",
      " 'Neurophysiology' 'Endocrinology-Metabolism' 'DCPTEAM' 'Resident']\n",
      "\n",
      "ValueCounts: \n",
      "medical_specialty\n",
      "InternalMedicine          14635\n",
      "Emergency/Trauma           7565\n",
      "Family/GeneralPractice     7440\n",
      "Cardiology                 5352\n",
      "Surgery-General            3099\n",
      "                          ...  \n",
      "Proctology                    1\n",
      "Speech                        1\n",
      "SportsMedicine                1\n",
      "Perinatology                  1\n",
      "Neurophysiology               1\n",
      "Name: count, Length: 72, dtype: int64\n",
      "\n",
      "ValueCounts: Normalized\n",
      "medical_specialty\n",
      "InternalMedicine          0.282436\n",
      "Emergency/Trauma          0.145995\n",
      "Family/GeneralPractice    0.143582\n",
      "Cardiology                0.103287\n",
      "Surgery-General           0.059807\n",
      "                            ...   \n",
      "Proctology                0.000019\n",
      "Speech                    0.000019\n",
      "SportsMedicine            0.000019\n",
      "Perinatology              0.000019\n",
      "Neurophysiology           0.000019\n",
      "Name: proportion, Length: 72, dtype: float64\n"
     ]
    }
   ],
   "source": [
    "analyzeColumn(df, 'medical_specialty')"
   ]
  },
  {
   "cell_type": "markdown",
   "metadata": {},
   "source": [
    "The column has high percentage of missing values. However, the column may have a correlation with the outcome. We keep the column for now, and impute the missing values as \"Unknown\", we also change the column to categorical type."
   ]
  },
  {
   "cell_type": "code",
   "execution_count": 151,
   "metadata": {},
   "outputs": [],
   "source": [
    "df['medical_specialty'] = df['medical_specialty'].fillna('Unknown')\n",
    "df['medical_specialty'] = df['medical_specialty'].astype('category')"
   ]
  },
  {
   "cell_type": "markdown",
   "metadata": {},
   "source": [
    "### Column: 'diag_1', 'diag_2', 'diag_3'"
   ]
  },
  {
   "cell_type": "code",
   "execution_count": 152,
   "metadata": {},
   "outputs": [
    {
     "name": "stdout",
     "output_type": "stream",
     "text": [
      "Column name: diag_1\n",
      "Data type: object\n",
      "\n",
      "Count of NAs: 21, %NAs = 0.02063557573256294\n",
      "\n",
      "Number of unique values: 717\n",
      "\n",
      "Unique values: \n",
      "['250.83' '276' '648' '8' '197' '414' '428' '398' '434' '250.7' '157'\n",
      " '518' '999' '410' '682' '402' '737' '572' 'V57' '189' '786' '427' '996'\n",
      " '277' '584' '462' '473' '411' '174' '486' '998' '511' '432' '626' '295'\n",
      " '196' '250.6' '618' '182' '845' '423' '808' '250.4' '722' '403' '250.11'\n",
      " '784' '707' '440' '151' '715' '997' '198' '564' '812' '38' '590' '556'\n",
      " '578' '250.32' '433' 'V58' '569' '185' '536' '255' '250.13' '599' '558'\n",
      " '574' '491' '560' '244' '250.03' '577' '730' '188' '824' '250.8' '332'\n",
      " '562' '291' '296' '510' '401' '263' '438' '70' '250.02' '493' '642' '625'\n",
      " '571' '738' '593' '250.42' '807' '456' '446' '575' '250.41' '820' '515'\n",
      " '780' '250.22' '995' '235' '250.82' '721' '787' '162' '724' '282' '514'\n",
      " 'V55' '281' '250.33' '530' '466' '435' '250.12' 'V53' '789' '566' '822'\n",
      " '191' '557' '733' '455' '711' '482' '202' '280' '553' '225' '154' '441'\n",
      " '250.81' '349' <NA> '962' '592' '507' '386' '156' '200' '728' '348' '459'\n",
      " '426' '388' '607' '337' '82' '531' '596' '288' '656' '573' '492' '220'\n",
      " '516' '210' '922' '286' '885' '958' '661' '969' '250.93' '227' '112'\n",
      " '404' '823' '532' '416' '346' '535' '453' '250' '595' '211' '303'\n",
      " '250.01' '852' '218' '782' '540' '457' '285' '431' '340' '550' '54' '351'\n",
      " '601' '723' '555' '153' '443' '380' '204' '424' '241' '358' '694' '331'\n",
      " '345' '681' '447' '290' '158' '579' '436' '335' '309' '654' '805' '799'\n",
      " '292' '183' '78' '851' '458' '586' '311' '892' '305' '293' '415' '591'\n",
      " '794' '803' '79' '655' '429' '278' '658' '598' '729' '585' '444' '604'\n",
      " '727' '214' '552' '284' '680' '708' '41' '644' '481' '821' '413' '437'\n",
      " '968' '756' '632' '359' '275' '512' '781' '420' '368' '522' '294' '825'\n",
      " '135' '304' '320' '250.31' '669' '868' '496' '250.43' '826' '567' '3'\n",
      " '203' '53' '251' '565' '161' '495' '49' '250.1' '297' '663' '576' '355'\n",
      " '850' '287' '250.2' '611' '840' '350' '726' '537' '620' '180' '366' '783'\n",
      " '11' '751' '716' '250.3' '199' '464' '580' '836' '664' '283' '813' '966'\n",
      " '289' '965' '184' '480' '608' '333' '972' '212' '117' '788' '924' '959'\n",
      " '621' '238' '785' '714' '942' '250.23' '710' '47' '933' '508' '478' '844'\n",
      " '7' '736' '233' '42' '250.5' '397' '395' '201' '421' '253' '250.92' '600'\n",
      " '494' '977' '39' '659' '312' '614' '647' '652' '646' '274' '861' '425'\n",
      " '527' '451' '485' '217' '250.53' '442' '970' '193' '160' '322' '581'\n",
      " '475' '623' '374' '582' '568' '465' '801' '237' '376' '150' '461' '913'\n",
      " '226' '617' '987' '641' '298' '790' '336' '362' '228' '513' '383' '746'\n",
      " '353' '911' '506' '873' '155' '860' '534' '802' '141' 'V45' '396' '310'\n",
      " '341' '242' '719' '239' '533' '616' '519' '301' 'V66' '5' '989' '230'\n",
      " '385' '300' '853' '871' '570' '848' '463' '9' '934' '250.21' '236' '361'\n",
      " '594' '501' '810' '643' '430' '528' '205' '791' '983' '992' '490' '172'\n",
      " '171' '622' '306' '863' '864' '474' '660' '759' '356' '634' '967' '551'\n",
      " '695' '187' '732' '747' '323' '308' '370' '252' '152' '846' '164' '365'\n",
      " '718' '48' '266' '720' '94' '344' '797' '170' '878' '904' 'V56' '882'\n",
      " '843' '709' '973' '454' '686' '939' '487' '229' '991' '483' '357' '692'\n",
      " '796' '693' '935' '936' '800' '920' 'V26' '261' '307' '262' '250.9' '831'\n",
      " '145' '223' 'V71' '839' '685' 'V54' '35' '34' '179' '964' '136' '324'\n",
      " '389' '815' '334' '143' '526' '588' '192' 'V67' '394' '917' '88' '219'\n",
      " '325' '792' '717' '994' '990' '793' '207' '637' '195' '373' '847' '827'\n",
      " '31' '891' '814' 'V60' '703' '865' '352' '627' '378' '342' '886' '369'\n",
      " '745' '705' '816' '541' '986' '610' '633' '640' '753' '173' '835' '379'\n",
      " '445' '272' '382' '945' '619' '881' '250.52' '866' '405' '916' '215'\n",
      " '893' '75' '671' '928' '906' '897' '725' '867' '115' '890' '734' '521'\n",
      " '674' '470' '834' '146' '696' '524' '980' '691' '384' '142' '879'\n",
      " '250.51' '246' '208' '448' '955' '653' '149' '245' '735' '883' '854'\n",
      " '952' '838' '194' 'V43' '163' '216' '147' '354' '27' '477' '318' '880'\n",
      " '921' '377' '471' '683' '175' '602' '250.91' '982' '706' '375' '417'\n",
      " '131' '347' '870' '148' '862' '61' '817' '914' '360' '684' '314' 'V63'\n",
      " '36' '57' '240' '915' '971' '795' '988' '452' '963' '327' '731' '842'\n",
      " 'V25' '645' '665' '110' '944' '603' '923' '412' '363' '957' '976' '698'\n",
      " '299' '700' '273' '974' '97' '529' '66' '98' '605' '941' '52' '806' '84'\n",
      " '271' '837' '657' '895' '338' '523' '542' '114' '543' '372' 'V70' 'E909'\n",
      " '583' 'V07' '422' '615' '279' '500' '903' '919' '875' '381' '804' '704'\n",
      " '23' '58' '649' '832' '133' '975' '833' '391' '690' '10' 'V51']\n",
      "\n",
      "ValueCounts: \n",
      "diag_1\n",
      "428    6862\n",
      "414    6581\n",
      "786    4016\n",
      "410    3614\n",
      "486    3508\n",
      "       ... \n",
      "412       1\n",
      "363       1\n",
      "957       1\n",
      "976       1\n",
      "V51       1\n",
      "Name: count, Length: 716, dtype: int64\n",
      "\n",
      "ValueCounts: Normalized\n",
      "diag_1\n",
      "428    0.067443\n",
      "414    0.064681\n",
      "786    0.039471\n",
      "410    0.035520\n",
      "486    0.034478\n",
      "         ...   \n",
      "412    0.000010\n",
      "363    0.000010\n",
      "957    0.000010\n",
      "976    0.000010\n",
      "V51    0.000010\n",
      "Name: proportion, Length: 716, dtype: float64\n"
     ]
    }
   ],
   "source": [
    "analyzeColumn(df, 'diag_1')"
   ]
  },
  {
   "cell_type": "code",
   "execution_count": 153,
   "metadata": {},
   "outputs": [
    {
     "name": "stdout",
     "output_type": "stream",
     "text": [
      "Column name: diag_2\n",
      "Data type: object\n",
      "\n",
      "Count of NAs: 358, %NAs = 0.3517874339170253\n",
      "\n",
      "Number of unique values: 749\n",
      "\n",
      "Unique values: \n",
      "[<NA> '250.01' '250' '250.43' '157' '411' '492' '427' '198' '403' '288'\n",
      " '998' '507' '174' '425' '456' '401' '715' '496' '428' '585' '250.02'\n",
      " '410' '999' '996' '135' '244' '41' '571' '276' '997' '599' '424' '491'\n",
      " '553' '707' '286' '440' '493' '242' '70' 'V45' '250.03' '357' '511' '196'\n",
      " '396' '197' '414' '250.52' '577' '535' '413' '285' '53' '780' '518' '150'\n",
      " '566' '250.6' '867' '486' 'V15' '8' '788' '340' '574' '581' '228' '530'\n",
      " '250.82' '786' '294' '567' '785' '512' '305' '729' '250.51' '280' '648'\n",
      " '560' '618' '444' '38' 'V10' '578' '277' '781' '250.42' '278' '426' '584'\n",
      " '462' '402' '153' '272' '733' '34' '881' '203' '250.41' '250.13' '293'\n",
      " '245' '250.12' '558' '787' '342' '573' '626' '303' '250.53' '458' '710'\n",
      " '415' 'V42' '284' '569' '759' '682' '112' '292' '435' '290' '250.93'\n",
      " '642' '536' '398' '319' '711' 'E878' '446' '255' 'V44' '250.7' '784'\n",
      " '300' '562' '162' '287' '447' '789' '790' '591' '200' '154' '304' '117'\n",
      " '847' '852' '250.83' '250.11' '816' '575' '416' '412' '441' '515' '372'\n",
      " '482' '382' 'V65' '572' '283' '78' '250.81' '576' '432' '595' '295' 'V12'\n",
      " '204' '466' '721' '434' '590' '271' '813' '368' '227' '783' '250.5' '258'\n",
      " '253' '309' '250.91' '519' '333' '459' '250.92' '250.4' '179' '420' '345'\n",
      " '433' '661' '537' '205' '722' '405' '437' '714' '211' 'E812' '263' '202'\n",
      " '397' '250.23' 'E932' '201' '301' '723' '614' '568' '861' 'V57' '724'\n",
      " '189' '297' '453' 'E888' '730' '354' '451' '738' 'E939' '805' 'V43' '155'\n",
      " '910' '218' '358' '220' 'E937' '583' '958' '794' '564' '436' '250.22'\n",
      " '620' '621' '331' '617' '596' '314' '378' '250.8' '625' '478' '731' '172'\n",
      " '404' '681' '470' '279' '281' '531' '443' '799' '337' '311' '719' 'E944'\n",
      " '423' 'E870' '465' 'E849' '782' '481' '480' 'V23' '199' '79' '438' '348'\n",
      " '42' 'E950' '473' '627' '726' '54' '490' '317' '332' '508' '369' '600'\n",
      " '349' '485' '208' '922' '431' '296' 'E934' '753' 'E935' '386' '728' '607'\n",
      " 'E915' '344' '716' '289' '191' '873' '850' '611' '377' '352' '616' 'V17'\n",
      " '136' '455' '933' 'E885' '860' '513' '603' '484' '223' 'V72' '291' '151'\n",
      " 'V58' '550' '510' '891' '185' '592' '791' '138' '598' '336' '362' '217'\n",
      " '825' '298' '821' 'E880' '343' '429' 'E879' '579' '225' '250.9' 'V49'\n",
      " '696' '233' '658' '969' '275' '250.1' '601' '704' '808' 'E890' 'V18'\n",
      " '920' '380' '570' 'E817' '359' '812' '274' 'V14' '324' '758' 'V66' '911'\n",
      " 'E931' 'E924' '593' '792' '727' 'V46' '394' '532' 'V64' '557' '864' '718'\n",
      " 'E942' '807' '604' '924' '820' '580' '273' '241' '282' '824' 'V61' '646'\n",
      " '701' '736' '565' '383' '250.2' 'E947' '452' '872' '905' 'E930' '921'\n",
      " '131' '448' '389' '421' '214' '705' '494' '752' '623' '9' '299' '959'\n",
      " '365' '967' 'E858' '40' '691' '909' '5' '814' '746' '250.31' '556' '680'\n",
      " '745' '351' '306' '110' '695' '552' '346' '918' '882' '947' '520' '188'\n",
      " '31' '356' '737' 'V08' '322' '182' '517' '974' 'E929' 'V53' '912' '252'\n",
      " '608' '516' 'E933' '94' '702' '923' '594' '647' '111' '934' '430' '487'\n",
      " '709' '796' '156' '977' '915' '756' '840' '341' '259' '693' '725' 'V62'\n",
      " '528' '683' '953' '457' '501' 'E900' 'V09' '522' '919' '461' '506' '193'\n",
      " '483' 'E936' '717' '802' '335' 'V54' '320' '945' '906' '239' '454' '826'\n",
      " '823' 'E941' '226' '795' '684' '844' '250.33' '308' '615' '588' '712'\n",
      " '663' '706' '833' '741' '713' '533' 'E884' '586' '555' '755' 'E928' '742'\n",
      " '869' '962' 'V11' '543' '373' '870' '913' '152' '810' '965' '907' '908'\n",
      " '995' '845' '474' '442' '751' '323' '472' '464' '686' '250.32' '540'\n",
      " '251' '811' '652' '659' '851' '422' '815' '307' '325' '463' '992' '692'\n",
      " '521' '917' 'E965' '524' '916' 'E813' '173' '238' '137' '514' '312' '837'\n",
      " '355' '980' '622' '475' '500' '754' '261' '801' '868' '968' '381' '11'\n",
      " '250.21' '694' '610' '734' 'E814' '310' '130' '246' '892' '846' '634'\n",
      " '75' 'E927' 'E905' '183' '379' 'E917' '163' 'E868' '495' '747' '989'\n",
      " 'E854' '240' '832' '605' '602' '644' 'V16' '35' 'V70' '376' '266' 'E918'\n",
      " '619' '477' '656' '46' '883' '171' 'V13' '698' '842' 'E850' '800' '269'\n",
      " '664' 'E887' '952' '164' 'E881' '527' '685' '366' '836' '27' 'V63' '865'\n",
      " '793' '232' '990' '52' '831' '327' '542' '806' '972' '862' 'E829' 'E919'\n",
      " '944' 'E916' '963' '316' '645' '347' 'V85' '374' 'V02' '748' '256' '186'\n",
      " '866' '975' '96' '395' '262' 'E819' '654' '994' '318' 'E826' '879' '674'\n",
      " '641' '822' '145' '797' '353' 'E938' 'E816' '948' '987' '99' '192'\n",
      " '250.3' 'E906' '534' '115' 'E818' 'E980' '360' '338' '529' '871' '750'\n",
      " '212' '302' '955' '141' '88' 'V25' '215' '350' 'V50' 'V03' 'E853' 'E968'\n",
      " 'E882' '140' '703' '991' '893' 'E821' '235' 'V69' '670' '195' 'V55' '388'\n",
      " '268' '894' '114' '260' '853' '7' '880' 'V86' '180' 'E945' '523' '863'\n",
      " '649' '270' '665' '460' '942' '364' '66' 'E883' '123' '884' 'V60' '843'\n",
      " '927']\n",
      "\n",
      "ValueCounts: \n",
      "diag_2\n",
      "276     6752\n",
      "428     6662\n",
      "250     6071\n",
      "427     5036\n",
      "401     3736\n",
      "        ... \n",
      "E882       1\n",
      "V25        1\n",
      "180        1\n",
      "880        1\n",
      "7          1\n",
      "Name: count, Length: 748, dtype: int64\n",
      "\n",
      "ValueCounts: Normalized\n",
      "diag_2\n",
      "276     0.066583\n",
      "428     0.065695\n",
      "250     0.059867\n",
      "427     0.049661\n",
      "401     0.036841\n",
      "          ...   \n",
      "E882    0.000010\n",
      "V25     0.000010\n",
      "180     0.000010\n",
      "880     0.000010\n",
      "7       0.000010\n",
      "Name: proportion, Length: 748, dtype: float64\n"
     ]
    }
   ],
   "source": [
    "analyzeColumn(df, 'diag_2')"
   ]
  },
  {
   "cell_type": "code",
   "execution_count": 154,
   "metadata": {},
   "outputs": [
    {
     "name": "stdout",
     "output_type": "stream",
     "text": [
      "Column name: diag_3\n",
      "Data type: object\n",
      "\n",
      "Count of NAs: 1423, %NAs = 1.398305917497003\n",
      "\n",
      "Number of unique values: 790\n",
      "\n",
      "Unique values: \n",
      "[<NA> '255' 'V27' '403' '250' 'V45' '38' '486' '996' '197' '250.6' '427'\n",
      " '627' '414' '416' '714' '428' '582' 'V43' '250.01' '263' '250.42' '276'\n",
      " '482' '401' '250.41' '585' '781' '278' '998' '568' '682' '618' '250.02'\n",
      " '305' '707' '496' '599' '715' '424' '518' '553' '794' '411' 'V42' '531'\n",
      " '511' '490' '562' '250.8' '250.7' '250.52' '784' '491' '581' '420' '8'\n",
      " '724' '730' '789' '131' '250.82' '999' '41' '493' '250.03' '753' '786'\n",
      " '529' 'E888' '425' '595' '303' '560' '711' '492' '332' '296' '438' '362'\n",
      " '250.4' '654' '244' 'V70' '737' '625' '681' '250.51' '404' 'V10' '810'\n",
      " '280' '440' '785' '588' '569' '272' '997' '250.43' '918' '584' '54' '788'\n",
      " '426' '722' '250.92' '196' '461' '535' '787' '891' '284' '458' '648'\n",
      " '780' '182' '285' '593' '413' '664' '564' '201' '356' 'V15' '292' '782'\n",
      " '473' '455' 'E932' '357' '348' '294' '250.23' '459' 'E878' '437' '733'\n",
      " '507' '525' '250.53' '397' '572' '805' '453' '331' '736' '402' '591'\n",
      " '576' '465' '533' '703' '349' '315' '658' '608' '578' '716' '382' '300'\n",
      " '282' '571' '536' '596' '287' '644' 'V11' '558' 'E885' '162' '198' '218'\n",
      " '412' '396' 'V14' '570' '433' 'E934' '882' '288' '577' '443' '729' '836'\n",
      " '295' '799' '281' '304' '153' '410' '616' '250.83' '601' '291' '75' '512'\n",
      " '660' '250.5' '598' '337' '574' '653' 'V58' '311' '415' '386' '602' '790'\n",
      " '112' '873' '620' '436' '70' '155' '138' '663' '530' '710' '42' '342'\n",
      " '250.91' 'E884' '515' '307' '704' '728' '731' '583' '238' '441' '293'\n",
      " '573' '532' '290' '594' '319' '250.13' '250.12' '519' '346' '380' '135'\n",
      " '642' '698' '924' '905' 'E933' '555' '309' 'E879' '286' '565' '752' '580'\n",
      " '446' '444' '344' '252' '35' '813' '394' '301' '575' '258' 'V17' '802'\n",
      " '435' '746' 'V12' '709' '881' 'E935' '139' '250.81' '718' '365' '202'\n",
      " '334' '185' '398' 'V44' '517' 'E849' '614' '466' '626' '250.9' '368'\n",
      " '605' '883' '289' '478' '617' '429' '442' 'V25' '866' '610' '557' '959'\n",
      " 'E942' '94' '920' '345' '313' '379' '79' '516' '586' '821' '600' '242'\n",
      " '373' '592' 'V64' '487' '253' '706' 'E947' '117' '340' 'E950' '656'\n",
      " 'E949' '590' 'V09' '250.22' '934' '694' '203' '250.93' '995' '726' '923'\n",
      " '958' '275' 'E929' '211' 'V18' 'V66' '199' '665' '53' '279' '522' '791'\n",
      " '890' '456' 'E938' 'E816' '122' '721' 'V65' '136' '480' '423' 'E920'\n",
      " '793' '647' '537' '351' '845' '336' '274' '719' '945' '434' '494' '227'\n",
      " '157' '208' '174' 'V57' '812' '734' '150' 'V23' '447' '692' '228' 'V16'\n",
      " '756' '405' 'E928' '823' '552' '528' '389' '240' '454' '792' '366' 'E939'\n",
      " '907' '270' '310' '266' '387' 'E931' '783' '245' '607' '355' 'E930' '705'\n",
      " '372' '369' '611' '283' 'V46' '110' '867' 'E956' '251' '250.2' '820'\n",
      " '712' '695' '567' '343' '723' 'V08' '273' '623' '807' '451' '495' '701'\n",
      " '34' 'V53' '314' '472' 'E945' '11' '189' '534' '354' '333' 'V54' '277'\n",
      " '659' '708' '452' '655' '816' '670' '621' '246' '953' '865' 'E817' '646'\n",
      " '151' '378' '78' '298' '840' '641' '521' '745' '619' '912' '506' 'E904'\n",
      " '259' 'E870' 'E980' '383' '204' '696' '566' '727' '47' 'E943' '358' '191'\n",
      " '965' '921' '432' '27' 'E861' '758' '477' '524' '751' '652' '556' '188'\n",
      " '825' '919' '732' '908' '951' '962' '685' 'E850' 'E944' '527' '341' '693'\n",
      " '250.1' 'V49' '860' '323' 'V55' '579' '508' '969' '205' '462' 'E880'\n",
      " '680' '697' '826' '200' '457' '717' '738' '742' '735' '235' '308' '725'\n",
      " '241' '824' '464' '260' '917' '239' '661' '892' '261' 'E883' '943' '744'\n",
      " 'E936' '796' '318' '967' '350' '854' 'E905' '9' '741' 'E941' '170' '643'\n",
      " '317' '759' '909' 'V22' '831' '713' '180' '801' '360' '359' '501' '335'\n",
      " '250.11' '306' '811' '690' 'V02' '271' '214' '847' '543' 'V63' '906'\n",
      " '842' '686' '445' '808' '861' 'E852' '220' 'E887' 'E858' '915' '970'\n",
      " '256' '747' '395' '243' '815' '481' '5' 'E927' '297' '299' '851' '864'\n",
      " '922' '384' 'E876' '225' '158' 'E937' '871' '88' '966' 'E917' 'E812'\n",
      " 'V62' 'E924' '604' '233' 'E916' '377' '797' 'V72' '172' '7' '421' '852'\n",
      " 'E819' '972' '916' '956' '3' 'E965' '173' '193' '154' '347' '862' '250.3'\n",
      " '987' '470' '262' 'E855' '161' '115' '179' '910' '312' '17' '460' '265'\n",
      " '66' '163' 'V60' '870' 'E906' '514' '944' '844' '417' '152' '183' '991'\n",
      " '216' '385' '164' '935' '510' '814' '485' '850' '250.21' 'E919' '872'\n",
      " '195' '431' '597' '933' '171' '884' '156' '868' '483' 'E815' '542' 'V61'\n",
      " '853' '374' 'E881' 'E882' 'E822' '192' '754' '327' '523' '500' 'V85'\n",
      " '992' '657' '684' '603' 'E826' '550' '913' '376' '755' '361' '186' '720'\n",
      " '250.31' '674' '911' 'E813' '226' '365.44' 'E818' '146' '955' 'E894'\n",
      " '475' 'V13' '880' '930' 'E915' '381' '132' '353' '795' '893' 'V01' 'E853'\n",
      " '863' '540' 'E828' '430' '800' 'E865' '148' 'E946' '822' '879' '848'\n",
      " 'V86' 'V03' '338' '989' '388' 'E966' '111' 'E922' '123' '757' 'E901'\n",
      " '141' '268' 'E892' '649' '702' '948' '223' '484' 'E886' '838' '928' '236'\n",
      " '624' '837' 'E987' 'V07' '841' '622' 'E912' 'E955' '463' 'V06' 'E864'\n",
      " '217' '877' '391' 'E825' '952' '669' '875' 'E900' '215' '538' '980' '834'\n",
      " '448' '175' '49' '876' '230' '57' 'E854' '942' '14' '750' '370' '671'\n",
      " '971']\n",
      "\n",
      "ValueCounts: \n",
      "diag_3\n",
      "250    11555\n",
      "401     8289\n",
      "276     5175\n",
      "428     4577\n",
      "427     3955\n",
      "       ...  \n",
      "14         1\n",
      "750        1\n",
      "370        1\n",
      "671        1\n",
      "971        1\n",
      "Name: count, Length: 789, dtype: int64\n",
      "\n",
      "ValueCounts: Normalized\n",
      "diag_3\n",
      "250    0.115155\n",
      "401    0.082607\n",
      "276    0.051573\n",
      "428    0.045614\n",
      "427    0.039415\n",
      "         ...   \n",
      "14     0.000010\n",
      "750    0.000010\n",
      "370    0.000010\n",
      "671    0.000010\n",
      "971    0.000010\n",
      "Name: proportion, Length: 789, dtype: float64\n"
     ]
    }
   ],
   "source": [
    "analyzeColumn(df, 'diag_3')"
   ]
  },
  {
   "cell_type": "markdown",
   "metadata": {},
   "source": [
    "Diagnosis columns are very fine grained, we instead bin the values to speicific groups for simpler analysis.- We also change the columns to type category."
   ]
  },
  {
   "cell_type": "code",
   "execution_count": 155,
   "metadata": {},
   "outputs": [],
   "source": [
    "import re\n",
    "\n",
    "# Function transform_value(value): Standardizes diagnostic codes by replacing values beginning with 'V' or 'E' with '0' and filling in missing values as '-1'.\n",
    "def transform_value(value):\n",
    "    value = re.sub(\"V[0-9]*\", \"0\", value) # V \n",
    "    value = re.sub(\"E[0-9]*\", \"0\", value) # E \n",
    "    value = re.sub('NaN', \"-1\", value) # Nan \n",
    "    return value\n",
    "\n",
    "def transform_category(value):\n",
    "    if value>=390 and value<=459 or value==785:\n",
    "        category = 'Circulatory'\n",
    "    elif value>=460 and value<=519 or value==786:\n",
    "        category = 'Respiratory'\n",
    "    elif value>=520 and value<=579 or value==787:\n",
    "        category = 'Digestive'\n",
    "    elif value==250:\n",
    "        category = 'Diabetes'\n",
    "    elif value>=800 and value<=999:\n",
    "        category = 'Injury'          \n",
    "    elif value>=710 and value<=739:\n",
    "        category = 'Musculoskeletal'   \n",
    "    elif value>=580 and value<=629 or value==788:\n",
    "        category = 'Genitourinary'\n",
    "    elif value>=140 and value<=239 :\n",
    "        category = 'Neoplasms'\n",
    "    elif value==-1:\n",
    "        category = 'NAN'\n",
    "    else :\n",
    "        category = 'Other'\n"
   ]
  },
  {
   "cell_type": "code",
   "execution_count": 156,
   "metadata": {},
   "outputs": [],
   "source": [
    "# Function preprocess_diag_column(df): Applies transform_value and transform_category transformations to each diagnostic column (diag_1, diag_2, diag_3), replacing raw codes with categorical labels.\n",
    "def preprocess_diag_columns(df, diag_list):\n",
    "    for col in diag_list:\n",
    "        df[col]= df[col].fillna('NaN')\n",
    "    for col in diag_list:\n",
    "        df[col] = df[col].apply(transform_value)\n",
    "        df[col] = df[col].astype(float)\n",
    "    for col in diag_list:\n",
    "        df[col] = df[col].apply(transform_category).astype('category')\n",
    "    return df"
   ]
  },
  {
   "cell_type": "code",
   "execution_count": 157,
   "metadata": {},
   "outputs": [],
   "source": [
    "diag_list = ['diag_1','diag_2','diag_3']\n",
    "df = preprocess_diag_columns(df, diag_list)"
   ]
  },
  {
   "cell_type": "markdown",
   "metadata": {},
   "source": [
    "### Column: 'max_glu_serum'"
   ]
  },
  {
   "cell_type": "code",
   "execution_count": 158,
   "metadata": {},
   "outputs": [
    {
     "name": "stdout",
     "output_type": "stream",
     "text": [
      "Column name: max_glu_serum\n",
      "Data type: object\n",
      "\n",
      "Count of NAs: 96420, %NAs = 94.74677200636755\n",
      "\n",
      "Number of unique values: 4\n",
      "\n",
      "Unique values: \n",
      "[nan '>300' 'Norm' '>200']\n",
      "\n",
      "ValueCounts: \n",
      "max_glu_serum\n",
      "Norm    2597\n",
      ">200    1485\n",
      ">300    1264\n",
      "Name: count, dtype: int64\n",
      "\n",
      "ValueCounts: Normalized\n",
      "max_glu_serum\n",
      "Norm    0.485784\n",
      ">200    0.277778\n",
      ">300    0.236438\n",
      "Name: proportion, dtype: float64\n"
     ]
    }
   ],
   "source": [
    "analyzeColumn(df, 'max_glu_serum')"
   ]
  },
  {
   "cell_type": "markdown",
   "metadata": {},
   "source": [
    "We impute the missing values with 'Unknown'"
   ]
  },
  {
   "cell_type": "code",
   "execution_count": 159,
   "metadata": {},
   "outputs": [],
   "source": [
    "df['max_glu_serum'] = df['max_glu_serum'].fillna('Unknown')"
   ]
  },
  {
   "cell_type": "markdown",
   "metadata": {},
   "source": [
    "### Column: 'A1Cresult'"
   ]
  },
  {
   "cell_type": "code",
   "execution_count": 160,
   "metadata": {},
   "outputs": [
    {
     "name": "stdout",
     "output_type": "stream",
     "text": [
      "Column name: A1Cresult\n",
      "Data type: object\n",
      "\n",
      "Count of NAs: 84748, %NAs = 83.27732248491637\n",
      "\n",
      "Number of unique values: 4\n",
      "\n",
      "Unique values: \n",
      "[nan '>7' '>8' 'Norm']\n",
      "\n",
      "ValueCounts: \n",
      "A1Cresult\n",
      ">8      8216\n",
      "Norm    4990\n",
      ">7      3812\n",
      "Name: count, dtype: int64\n",
      "\n",
      "ValueCounts: Normalized\n",
      "A1Cresult\n",
      ">8      0.482783\n",
      "Norm    0.293219\n",
      ">7      0.223998\n",
      "Name: proportion, dtype: float64\n"
     ]
    }
   ],
   "source": [
    "analyzeColumn(df, 'A1Cresult')"
   ]
  },
  {
   "cell_type": "markdown",
   "metadata": {},
   "source": [
    "We fill NaNs with 'Unknown'"
   ]
  },
  {
   "cell_type": "code",
   "execution_count": 161,
   "metadata": {},
   "outputs": [],
   "source": [
    "df['A1Cresult'] = df['A1Cresult'].fillna('Unknown')"
   ]
  },
  {
   "cell_type": "markdown",
   "metadata": {},
   "source": [
    "## Handling Medicine columns"
   ]
  },
  {
   "cell_type": "code",
   "execution_count": 162,
   "metadata": {},
   "outputs": [],
   "source": [
    "medicineColumns = ['metformin',\n",
    "       'repaglinide', 'nateglinide', 'chlorpropamide', 'glimepiride',\n",
    "       'acetohexamide', 'glipizide', 'glyburide', 'tolbutamide',\n",
    "       'pioglitazone', 'rosiglitazone', 'acarbose', 'miglitol', 'troglitazone',\n",
    "       'tolazamide', 'examide', 'citoglipton', 'insulin',\n",
    "       'glyburide-metformin', 'glipizide-metformin',\n",
    "       'glimepiride-pioglitazone', 'metformin-rosiglitazone',\n",
    "       'metformin-pioglitazone']"
   ]
  },
  {
   "cell_type": "markdown",
   "metadata": {},
   "source": [
    "Many of the medicine columns are sparse, lets first take a look at the sparsity of the values."
   ]
  },
  {
   "cell_type": "code",
   "execution_count": 163,
   "metadata": {},
   "outputs": [],
   "source": [
    "def analyzeSparsity(df):\n",
    "    sparse_cols = (df == 'No').sum() / df.shape[0]\n",
    "    sparse_cols.sort_values(ascending=False, inplace=True)\n",
    "\n",
    "    sparse_cols_filtered = sparse_cols[sparse_cols >= 0.99].index\n",
    "    nonsparse_cols_filtered = sparse_cols[sparse_cols <= 0.99].index\n",
    "\n",
    "    max_len = max(len(col) for col in sparse_cols.index)\n",
    "\n",
    "    print(\"Sparse columns (>=99% with value 'No'): \\n\")\n",
    "    for col in sparse_cols_filtered:\n",
    "        print(f\"{col:<{max_len}} - sparcity: {sparse_cols[col]:.4f}\")\n",
    "        \n",
    "    print(\"\\nNon-sparse columns (<99% with value 'No'): \\n\")\n",
    "    for col in nonsparse_cols_filtered:\n",
    "        print(f\"{col:<{max_len}} - sparcity: {sparse_cols[col]:.4f}\")\n",
    "\n",
    "    return sparse_cols_filtered, nonsparse_cols_filtered"
   ]
  },
  {
   "cell_type": "code",
   "execution_count": 164,
   "metadata": {},
   "outputs": [
    {
     "name": "stdout",
     "output_type": "stream",
     "text": [
      "Sparse columns (>=99% with value 'No'): \n",
      "\n",
      "citoglipton              - sparcity: 1.0000\n",
      "examide                  - sparcity: 1.0000\n",
      "acetohexamide            - sparcity: 1.0000\n",
      "metformin-pioglitazone   - sparcity: 1.0000\n",
      "glimepiride-pioglitazone - sparcity: 1.0000\n",
      "metformin-rosiglitazone  - sparcity: 1.0000\n",
      "troglitazone             - sparcity: 1.0000\n",
      "glipizide-metformin      - sparcity: 0.9999\n",
      "tolbutamide              - sparcity: 0.9998\n",
      "miglitol                 - sparcity: 0.9996\n",
      "tolazamide               - sparcity: 0.9996\n",
      "chlorpropamide           - sparcity: 0.9992\n",
      "acarbose                 - sparcity: 0.9970\n",
      "nateglinide              - sparcity: 0.9931\n",
      "glyburide-metformin      - sparcity: 0.9931\n",
      "\n",
      "Non-sparse columns (<99% with value 'No'): \n",
      "\n",
      "repaglinide              - sparcity: 0.9849\n",
      "glimepiride              - sparcity: 0.9490\n",
      "rosiglitazone            - sparcity: 0.9375\n",
      "pioglitazone             - sparcity: 0.9280\n",
      "glyburide                - sparcity: 0.8953\n",
      "glipizide                - sparcity: 0.8753\n",
      "metformin                - sparcity: 0.8036\n",
      "insulin                  - sparcity: 0.4656\n"
     ]
    }
   ],
   "source": [
    "sparse_medicine_columns, nonsparse_medicine_columns = analyzeSparsity(df[medicineColumns])"
   ]
  },
  {
   "cell_type": "markdown",
   "metadata": {},
   "source": [
    "Following medicines have sparse values > 99% values are with No medicine administered. We will drop these columns"
   ]
  },
  {
   "cell_type": "code",
   "execution_count": 165,
   "metadata": {},
   "outputs": [],
   "source": [
    "df = df.drop(columns = sparse_medicine_columns)"
   ]
  },
  {
   "cell_type": "markdown",
   "metadata": {},
   "source": [
    "## Object Columns"
   ]
  },
  {
   "cell_type": "code",
   "execution_count": 166,
   "metadata": {},
   "outputs": [
    {
     "data": {
      "text/plain": [
       "Index(['gender', 'age', 'max_glu_serum', 'A1Cresult', 'metformin',\n",
       "       'repaglinide', 'glimepiride', 'glipizide', 'glyburide', 'pioglitazone',\n",
       "       'rosiglitazone', 'insulin', 'change', 'diabetesMed', 'readmitted'],\n",
       "      dtype='object')"
      ]
     },
     "execution_count": 166,
     "metadata": {},
     "output_type": "execute_result"
    }
   ],
   "source": [
    "df.select_dtypes(include=['object']).columns"
   ]
  },
  {
   "cell_type": "markdown",
   "metadata": {},
   "source": [
    "### Column: 'gender"
   ]
  },
  {
   "cell_type": "code",
   "execution_count": 167,
   "metadata": {},
   "outputs": [
    {
     "name": "stdout",
     "output_type": "stream",
     "text": [
      "Column name: gender\n",
      "Data type: object\n",
      "\n",
      "Count of NAs: 0, %NAs = 0.0\n",
      "\n",
      "Number of unique values: 3\n",
      "\n",
      "Unique values: \n",
      "['Female' 'Male' 'Unknown/Invalid']\n",
      "\n",
      "ValueCounts: \n",
      "gender\n",
      "Female             54708\n",
      "Male               47055\n",
      "Unknown/Invalid        3\n",
      "Name: count, dtype: int64\n",
      "\n",
      "ValueCounts: Normalized\n",
      "gender\n",
      "Female             0.537586\n",
      "Male               0.462384\n",
      "Unknown/Invalid    0.000029\n",
      "Name: proportion, dtype: float64\n"
     ]
    }
   ],
   "source": [
    "analyzeColumn(df, 'gender')"
   ]
  },
  {
   "cell_type": "markdown",
   "metadata": {},
   "source": [
    "There are just 3 rows with 'gender' as 'Unknown/Invalid'. Lets drop these rows"
   ]
  },
  {
   "cell_type": "code",
   "execution_count": 168,
   "metadata": {},
   "outputs": [],
   "source": [
    "df = df.drop(df[df['gender'] == 'Unknown/Invalid'].index)"
   ]
  },
  {
   "cell_type": "markdown",
   "metadata": {},
   "source": [
    "### Column: 'age'"
   ]
  },
  {
   "cell_type": "code",
   "execution_count": 169,
   "metadata": {},
   "outputs": [
    {
     "name": "stdout",
     "output_type": "stream",
     "text": [
      "Column name: age\n",
      "Data type: object\n",
      "\n",
      "Count of NAs: 0, %NAs = 0.0\n",
      "\n",
      "Number of unique values: 10\n",
      "\n",
      "Unique values: \n",
      "['[0-10)' '[10-20)' '[20-30)' '[30-40)' '[40-50)' '[50-60)' '[60-70)'\n",
      " '[70-80)' '[80-90)' '[90-100)']\n",
      "\n",
      "ValueCounts: \n",
      "age\n",
      "[70-80)     26066\n",
      "[60-70)     22482\n",
      "[50-60)     17256\n",
      "[80-90)     17197\n",
      "[40-50)      9685\n",
      "[30-40)      3775\n",
      "[90-100)     2793\n",
      "[20-30)      1657\n",
      "[10-20)       691\n",
      "[0-10)        161\n",
      "Name: count, dtype: int64\n",
      "\n",
      "ValueCounts: Normalized\n",
      "age\n",
      "[70-80)     0.256144\n",
      "[60-70)     0.220925\n",
      "[50-60)     0.169570\n",
      "[80-90)     0.168991\n",
      "[40-50)     0.095172\n",
      "[30-40)     0.037096\n",
      "[90-100)    0.027446\n",
      "[20-30)     0.016283\n",
      "[10-20)     0.006790\n",
      "[0-10)      0.001582\n",
      "Name: proportion, dtype: float64\n"
     ]
    }
   ],
   "source": [
    "analyzeColumn(df, 'age')"
   ]
  },
  {
   "cell_type": "markdown",
   "metadata": {},
   "source": [
    "There are very few values < 30, lets bin them to a single bin."
   ]
  },
  {
   "cell_type": "code",
   "execution_count": 170,
   "metadata": {},
   "outputs": [
    {
     "name": "stderr",
     "output_type": "stream",
     "text": [
      "<>:3: SyntaxWarning: invalid escape sequence '\\d'\n",
      "<>:3: SyntaxWarning: invalid escape sequence '\\d'\n",
      "/tmp/ipykernel_2615/1969488850.py:3: SyntaxWarning: invalid escape sequence '\\d'\n",
      "  df['age-binned'] = pd.cut(df['age'].str.extract('(\\d+)')[0].astype(int), bins=bin_edges, labels=bin_labels, right=False)\n"
     ]
    }
   ],
   "source": [
    "bin_edges = [0, 30, 40, 50, 60, 70, 80, 90, 100]\n",
    "bin_labels = ['0-30', '30-40', '40-50', '50-60', '60-70', '70-80', '80-90', '90-100']\n",
    "df['age-binned'] = pd.cut(df['age'].str.extract('(\\d+)')[0].astype(int), bins=bin_edges, labels=bin_labels, right=False)"
   ]
  },
  {
   "cell_type": "markdown",
   "metadata": {},
   "source": [
    "### Column: 'max_glu_serum'"
   ]
  },
  {
   "cell_type": "code",
   "execution_count": 171,
   "metadata": {},
   "outputs": [
    {
     "name": "stdout",
     "output_type": "stream",
     "text": [
      "Column name: max_glu_serum\n",
      "Data type: object\n",
      "\n",
      "Count of NAs: 0, %NAs = 0.0\n",
      "\n",
      "Number of unique values: 4\n",
      "\n",
      "Unique values: \n",
      "['Unknown' '>300' 'Norm' '>200']\n",
      "\n",
      "ValueCounts: \n",
      "max_glu_serum\n",
      "Unknown    96417\n",
      "Norm        2597\n",
      ">200        1485\n",
      ">300        1264\n",
      "Name: count, dtype: int64\n",
      "\n",
      "ValueCounts: Normalized\n",
      "max_glu_serum\n",
      "Unknown    0.947466\n",
      "Norm       0.025520\n",
      ">200       0.014593\n",
      ">300       0.012421\n",
      "Name: proportion, dtype: float64\n"
     ]
    }
   ],
   "source": [
    "analyzeColumn(df, 'max_glu_serum')"
   ]
  },
  {
   "cell_type": "markdown",
   "metadata": {},
   "source": [
    "Indicates the range of the result or if the test was not taken.  \n",
    "Values: “>200,” “>300,”, “normal,” and “Unknown” if not measured.  \n",
    "\n",
    "We split the column to two columns:  \n",
    "\n",
    "**max_glu_serum** = Ordinal encoding  \n",
    "0 : Unknown/Not measured.  \n",
    "1 : Norm.  \n",
    "2 : >200.  \n",
    "3 : >300.  \n",
    "\n",
    "**max_glu_serum_measured** = Categorical  \n",
    "Yes : If the values were measured  \n",
    "No  : Otherwise "
   ]
  },
  {
   "cell_type": "code",
   "execution_count": 172,
   "metadata": {},
   "outputs": [],
   "source": [
    "# Create the 'measured' column (Yes/No)\n",
    "df['max_glu_serum_measured'] = df['max_glu_serum'].apply(lambda x: 'No' if x == 'Unknown' else 'Yes')\n",
    "df['max_glu_serum_measured'] = df['max_glu_serum_measured'].astype('category')\n",
    "ordinal_mapping = {'Unknown' : 0, 'Norm': 1, '>200': 2, '>300': 3 }\n",
    "df['max_glu_serum'] = df['max_glu_serum'].map(ordinal_mapping)"
   ]
  },
  {
   "cell_type": "markdown",
   "metadata": {},
   "source": [
    "### Column: 'A1Cresult'"
   ]
  },
  {
   "cell_type": "code",
   "execution_count": 173,
   "metadata": {},
   "outputs": [
    {
     "name": "stdout",
     "output_type": "stream",
     "text": [
      "Column name: A1Cresult\n",
      "Data type: object\n",
      "\n",
      "Count of NAs: 0, %NAs = 0.0\n",
      "\n",
      "Number of unique values: 4\n",
      "\n",
      "Unique values: \n",
      "['Unknown' '>7' '>8' 'Norm']\n",
      "\n",
      "ValueCounts: \n",
      "A1Cresult\n",
      "Unknown    84745\n",
      ">8          8216\n",
      "Norm        4990\n",
      ">7          3812\n",
      "Name: count, dtype: int64\n",
      "\n",
      "ValueCounts: Normalized\n",
      "A1Cresult\n",
      "Unknown    0.832768\n",
      ">8         0.080737\n",
      "Norm       0.049036\n",
      ">7         0.037460\n",
      "Name: proportion, dtype: float64\n"
     ]
    }
   ],
   "source": [
    "analyzeColumn(df, 'A1Cresult')"
   ]
  },
  {
   "cell_type": "markdown",
   "metadata": {},
   "source": [
    "Indicates the range of the result or if the test was not taken.  \n",
    "Values: “>8,” “>7,”, “Norm,” and “Unknown” if not measured.  \n",
    "\n",
    "We split the column to two columns:  \n",
    "\n",
    "**A1Cresult** = Ordinal encoding  \n",
    "0 : Unknown/Not measured.  \n",
    "1 : Norm.  \n",
    "2 : >200.  \n",
    "3 : >300.  \n",
    "\n",
    "**A1Cresult_measured** = Categorical  \n",
    "Yes : If the values were measured  \n",
    "No  : Otherwise "
   ]
  },
  {
   "cell_type": "code",
   "execution_count": 174,
   "metadata": {},
   "outputs": [],
   "source": [
    "df['A1Cresult_measured'] = df['A1Cresult'].apply(lambda x: 'No' if x == 'Unknown' else 'Yes')\n",
    "df['A1Cresult_measured'] = df['A1Cresult_measured'].astype('category')\n",
    "ordinal_mapping = {'Unknown' : 0, 'Norm': 1, '>7': 2, '>8': 3 }\n",
    "df['A1Cresult'] = df['A1Cresult'].map(ordinal_mapping)"
   ]
  },
  {
   "cell_type": "markdown",
   "metadata": {},
   "source": [
    "### Column: Medicine columns"
   ]
  },
  {
   "cell_type": "code",
   "execution_count": 175,
   "metadata": {},
   "outputs": [
    {
     "name": "stdout",
     "output_type": "stream",
     "text": [
      "Column name: repaglinide\n",
      "Data type: object\n",
      "\n",
      "Count of NAs: 0, %NAs = 0.0\n",
      "\n",
      "Number of unique values: 4\n",
      "\n",
      "Unique values: \n",
      "['No' 'Up' 'Steady' 'Down']\n",
      "\n",
      "ValueCounts: \n",
      "repaglinide\n",
      "No        100224\n",
      "Steady      1384\n",
      "Up           110\n",
      "Down          45\n",
      "Name: count, dtype: int64\n",
      "\n",
      "ValueCounts: Normalized\n",
      "repaglinide\n",
      "No        0.984877\n",
      "Steady    0.013600\n",
      "Up        0.001081\n",
      "Down      0.000442\n",
      "Name: proportion, dtype: float64\n",
      "\n",
      " ------------------------------------------- \n",
      "\n",
      "Column name: glimepiride\n",
      "Data type: object\n",
      "\n",
      "Count of NAs: 0, %NAs = 0.0\n",
      "\n",
      "Number of unique values: 4\n",
      "\n",
      "Unique values: \n",
      "['No' 'Steady' 'Down' 'Up']\n",
      "\n",
      "ValueCounts: \n",
      "glimepiride\n",
      "No        96572\n",
      "Steady     4670\n",
      "Up          327\n",
      "Down        194\n",
      "Name: count, dtype: int64\n",
      "\n",
      "ValueCounts: Normalized\n"
     ]
    },
    {
     "name": "stdout",
     "output_type": "stream",
     "text": [
      "glimepiride\n",
      "No        0.948989\n",
      "Steady    0.045891\n",
      "Up        0.003213\n",
      "Down      0.001906\n",
      "Name: proportion, dtype: float64\n",
      "\n",
      " ------------------------------------------- \n",
      "\n",
      "Column name: rosiglitazone\n",
      "Data type: object\n",
      "\n",
      "Count of NAs: 0, %NAs = 0.0\n",
      "\n",
      "Number of unique values: 4\n",
      "\n",
      "Unique values: \n",
      "['No' 'Steady' 'Up' 'Down']\n",
      "\n",
      "ValueCounts: \n",
      "rosiglitazone\n",
      "No        95399\n",
      "Steady     6099\n",
      "Up          178\n",
      "Down         87\n",
      "Name: count, dtype: int64\n",
      "\n",
      "ValueCounts: Normalized\n",
      "rosiglitazone\n",
      "No        0.937463\n",
      "Steady    0.059933\n",
      "Up        0.001749\n",
      "Down      0.000855\n",
      "Name: proportion, dtype: float64\n",
      "\n",
      " ------------------------------------------- \n",
      "\n",
      "Column name: pioglitazone\n",
      "Data type: object\n",
      "\n",
      "Count of NAs: 0, %NAs = 0.0\n",
      "\n",
      "Number of unique values: 4\n",
      "\n",
      "Unique values: \n",
      "['No' 'Steady' 'Up' 'Down']\n",
      "\n",
      "ValueCounts: \n",
      "pioglitazone\n",
      "No        94436\n",
      "Steady     6975\n",
      "Up          234\n",
      "Down        118\n",
      "Name: count, dtype: int64\n",
      "\n",
      "ValueCounts: Normalized\n",
      "pioglitazone\n",
      "No        0.927999\n",
      "Steady    0.068542\n",
      "Up        0.002299\n",
      "Down      0.001160\n",
      "Name: proportion, dtype: float64\n",
      "\n",
      " ------------------------------------------- \n",
      "\n",
      "Column name: glyburide\n",
      "Data type: object\n",
      "\n",
      "Count of NAs: 0, %NAs = 0.0\n",
      "\n",
      "Number of unique values: 4\n",
      "\n",
      "Unique values: \n",
      "['No' 'Steady' 'Up' 'Down']\n",
      "\n",
      "ValueCounts: \n",
      "glyburide\n",
      "No        91113\n",
      "Steady     9274\n",
      "Up          812\n",
      "Down        564\n",
      "Name: count, dtype: int64\n",
      "\n",
      "ValueCounts: Normalized\n",
      "glyburide\n",
      "No        0.895345\n",
      "Steady    0.091133\n",
      "Up        0.007979\n",
      "Down      0.005542\n",
      "Name: proportion, dtype: float64\n",
      "\n",
      " ------------------------------------------- \n",
      "\n",
      "Column name: glipizide\n",
      "Data type: object\n",
      "\n",
      "Count of NAs: 0, %NAs = 0.0\n",
      "\n",
      "Number of unique values: 4\n",
      "\n",
      "Unique values: \n",
      "['No' 'Steady' 'Up' 'Down']\n",
      "\n",
      "ValueCounts: \n",
      "glipizide\n",
      "No        89078\n",
      "Steady    11355\n",
      "Up          770\n",
      "Down        560\n",
      "Name: count, dtype: int64\n",
      "\n",
      "ValueCounts: Normalized\n",
      "glipizide\n",
      "No        0.875348\n",
      "Steady    0.111583\n",
      "Up        0.007567\n",
      "Down      0.005503\n",
      "Name: proportion, dtype: float64\n",
      "\n",
      " ------------------------------------------- \n",
      "\n",
      "Column name: metformin\n",
      "Data type: object\n",
      "\n",
      "Count of NAs: 0, %NAs = 0.0\n",
      "\n",
      "Number of unique values: 4\n",
      "\n",
      "Unique values: \n",
      "['No' 'Steady' 'Up' 'Down']\n",
      "\n",
      "ValueCounts: \n",
      "metformin\n",
      "No        81776\n",
      "Steady    18345\n",
      "Up         1067\n",
      "Down        575\n",
      "Name: count, dtype: int64\n",
      "\n",
      "ValueCounts: Normalized\n",
      "metformin\n",
      "No        0.803593\n",
      "Steady    0.180272\n",
      "Up        0.010485\n",
      "Down      0.005650\n",
      "Name: proportion, dtype: float64\n",
      "\n",
      " ------------------------------------------- \n",
      "\n",
      "Column name: insulin\n",
      "Data type: object\n",
      "\n",
      "Count of NAs: 0, %NAs = 0.0\n",
      "\n",
      "Number of unique values: 4\n",
      "\n",
      "Unique values: \n",
      "['No' 'Up' 'Steady' 'Down']\n",
      "\n",
      "ValueCounts: \n",
      "insulin\n",
      "No        47380\n",
      "Steady    30849\n",
      "Down      12218\n",
      "Up        11316\n",
      "Name: count, dtype: int64\n",
      "\n",
      "ValueCounts: Normalized\n",
      "insulin\n",
      "No        0.465592\n",
      "Steady    0.303146\n",
      "Down      0.120063\n",
      "Up        0.111200\n",
      "Name: proportion, dtype: float64\n",
      "\n",
      " ------------------------------------------- \n",
      "\n"
     ]
    }
   ],
   "source": [
    "for medicine_column in nonsparse_medicine_columns.to_list():\n",
    "    analyzeColumn(df, medicine_column)\n",
    "    print('\\n ------------------------------------------- \\n')"
   ]
  },
  {
   "cell_type": "markdown",
   "metadata": {},
   "source": [
    "These columns indicate dosage of medicines administered to the patient. Question: Are these the values that are administered during the visit? If so it will not impact the outcomes. We come back to this question later on. For now we adopt following approach:  \n",
    "\n",
    "We split the column to two columns:  \n",
    "\n",
    "**medicinename** = Ordinal encoding  \n",
    "-1 : Down, dosage was reduced.  \n",
    " 0 : No, medicine was not administered.  \n",
    " 1 : Steady, dosage was not changed.  \n",
    " 2 : Up, dosage was increased.  \n",
    "\n",
    "**medicinename_measured** = Categorical  \n",
    "Yes : If the values were measured  \n",
    "No  : Otherwise "
   ]
  },
  {
   "cell_type": "code",
   "execution_count": 176,
   "metadata": {},
   "outputs": [],
   "source": [
    "for col in nonsparse_medicine_columns.to_list():\n",
    "  df[f'{col}_measured'] = df[col].apply(lambda x: 'No' if x == 'No' else 'Yes')\n",
    "  df[f'{col}_measured'] = df[f'{col}_measured'].astype('category')\n",
    "  \n",
    "  ordinal_mapping = {'Down' : -1, 'No': 0, 'Steady': 1, 'Up': 2 }\n",
    "  df[col] = df[col].map(ordinal_mapping)"
   ]
  },
  {
   "cell_type": "markdown",
   "metadata": {},
   "source": [
    "### Column: 'change'"
   ]
  },
  {
   "cell_type": "code",
   "execution_count": 177,
   "metadata": {},
   "outputs": [
    {
     "name": "stdout",
     "output_type": "stream",
     "text": [
      "Column name: change\n",
      "Data type: object\n",
      "\n",
      "Count of NAs: 0, %NAs = 0.0\n",
      "\n",
      "Number of unique values: 2\n",
      "\n",
      "Unique values: \n",
      "['No' 'Ch']\n",
      "\n",
      "ValueCounts: \n",
      "change\n",
      "No    54754\n",
      "Ch    47009\n",
      "Name: count, dtype: int64\n",
      "\n",
      "ValueCounts: Normalized\n",
      "change\n",
      "No    0.538054\n",
      "Ch    0.461946\n",
      "Name: proportion, dtype: float64\n"
     ]
    }
   ],
   "source": [
    "analyzeColumn(df, 'change')"
   ]
  },
  {
   "cell_type": "markdown",
   "metadata": {},
   "source": [
    "The column has just two values. We convert it to categorical type."
   ]
  },
  {
   "cell_type": "code",
   "execution_count": 178,
   "metadata": {},
   "outputs": [],
   "source": [
    "df['change'] = df['change'].astype('category')"
   ]
  },
  {
   "cell_type": "markdown",
   "metadata": {},
   "source": [
    "### Column: 'diabetesMed'"
   ]
  },
  {
   "cell_type": "code",
   "execution_count": 179,
   "metadata": {},
   "outputs": [
    {
     "name": "stdout",
     "output_type": "stream",
     "text": [
      "Column name: diabetesMed\n",
      "Data type: object\n",
      "\n",
      "Count of NAs: 0, %NAs = 0.0\n",
      "\n",
      "Number of unique values: 2\n",
      "\n",
      "Unique values: \n",
      "['No' 'Yes']\n",
      "\n",
      "ValueCounts: \n",
      "diabetesMed\n",
      "Yes    78361\n",
      "No     23402\n",
      "Name: count, dtype: int64\n",
      "\n",
      "ValueCounts: Normalized\n",
      "diabetesMed\n",
      "Yes    0.770034\n",
      "No     0.229966\n",
      "Name: proportion, dtype: float64\n"
     ]
    }
   ],
   "source": [
    "analyzeColumn(df, 'diabetesMed')"
   ]
  },
  {
   "cell_type": "markdown",
   "metadata": {},
   "source": [
    "It is a simple categorical column."
   ]
  },
  {
   "cell_type": "code",
   "execution_count": 180,
   "metadata": {},
   "outputs": [],
   "source": [
    "df['diabetesMed'] = df['diabetesMed'].astype('category')"
   ]
  },
  {
   "cell_type": "markdown",
   "metadata": {},
   "source": [
    "### Column: 'readmitted', the target feature\n"
   ]
  },
  {
   "cell_type": "markdown",
   "metadata": {},
   "source": [
    "If the patient was readmitted in less than 30 days, then the value is \"<30\"\n",
    "If the patient was readmitted in more than 30 days, then the value is \">30\"\n",
    "If the patient was never readmitted, then the value is NO\n",
    "Since we want to determine whether the patient was readmitted irrespective of number of days, hence\n",
    "\n",
    "If the patient was never readmitted, then the value is 0.\n",
    "If the patient was readmitted, then value is 1."
   ]
  },
  {
   "cell_type": "code",
   "execution_count": 181,
   "metadata": {},
   "outputs": [
    {
     "name": "stdout",
     "output_type": "stream",
     "text": [
      "Column name: readmitted\n",
      "Data type: object\n",
      "\n",
      "Count of NAs: 0, %NAs = 0.0\n",
      "\n",
      "Number of unique values: 3\n",
      "\n",
      "Unique values: \n",
      "['NO' '>30' '<30']\n",
      "\n",
      "ValueCounts: \n",
      "readmitted\n",
      "NO     54861\n",
      ">30    35545\n",
      "<30    11357\n",
      "Name: count, dtype: int64\n",
      "\n",
      "ValueCounts: Normalized\n",
      "readmitted\n",
      "NO     0.539106\n",
      ">30    0.349292\n",
      "<30    0.111602\n",
      "Name: proportion, dtype: float64\n"
     ]
    }
   ],
   "source": [
    "analyzeColumn(df, 'readmitted')"
   ]
  },
  {
   "cell_type": "markdown",
   "metadata": {},
   "source": [
    "For first analysis lets consider readmission <30 days and >30 days as just readmission : YES. Also change the column to type categorical."
   ]
  },
  {
   "cell_type": "code",
   "execution_count": 182,
   "metadata": {},
   "outputs": [],
   "source": [
    "df['readmitted'] = df['readmitted'].str.replace('>30', 'YES')\n",
    "df['readmitted'] = df['readmitted'].str.replace('<30', 'YES')\n",
    "df['readmitted'] = df['readmitted'].astype('category')"
   ]
  },
  {
   "cell_type": "markdown",
   "metadata": {},
   "source": [
    "## The numerical columns"
   ]
  },
  {
   "cell_type": "code",
   "execution_count": 183,
   "metadata": {},
   "outputs": [
    {
     "data": {
      "text/plain": [
       "Index(['encounter_id', 'patient_nbr', 'admission_type_id',\n",
       "       'discharge_disposition_id', 'admission_source_id', 'time_in_hospital',\n",
       "       'num_lab_procedures', 'num_procedures', 'num_medications',\n",
       "       'number_outpatient', 'number_emergency', 'number_inpatient',\n",
       "       'number_diagnoses', 'max_glu_serum', 'A1Cresult', 'metformin',\n",
       "       'repaglinide', 'glimepiride', 'glipizide', 'glyburide', 'pioglitazone',\n",
       "       'rosiglitazone', 'insulin'],\n",
       "      dtype='object')"
      ]
     },
     "execution_count": 183,
     "metadata": {},
     "output_type": "execute_result"
    }
   ],
   "source": [
    "numerical_columns = df.select_dtypes(include=['number']).columns\n",
    "numerical_columns"
   ]
  },
  {
   "cell_type": "markdown",
   "metadata": {},
   "source": [
    "The columns 'encounter_id' and 'patient_nbr' are unique ids. We keep them as is."
   ]
  },
  {
   "cell_type": "markdown",
   "metadata": {},
   "source": [
    "### Some helper functions"
   ]
  },
  {
   "cell_type": "code",
   "execution_count": 184,
   "metadata": {},
   "outputs": [],
   "source": [
    "def analyzeNumericalColumn(df, columnName):\n",
    "    print(f'Column name: {columnName}')\n",
    "    print(f'Data type: {df[columnName].dtype}')\n",
    "\n",
    "    print()\n",
    "    naSum = df[columnName].isna().sum()\n",
    "    print(f'Count of NAs: {naSum}, %NAs = {naSum/len(df[columnName])*100}')\n",
    "\n",
    "    print()\n",
    "    uniqueValues = df[columnName].unique()\n",
    "    print(f'Number of unique values: {len(uniqueValues)}')\n",
    "\n",
    "    print()\n",
    "    print('Unique values: ')\n",
    "    print(f'{uniqueValues}')\n",
    "\n",
    "    print()\n",
    "    print('Value counts: ')\n",
    "    print(df[columnName].value_counts())\n",
    "\n",
    "    print()\n",
    "    print('Statistics')\n",
    "    print(df[columnName].describe())\n"
   ]
  },
  {
   "cell_type": "markdown",
   "metadata": {},
   "source": [
    "### Column: 'admission_type_id'"
   ]
  },
  {
   "cell_type": "code",
   "execution_count": 185,
   "metadata": {},
   "outputs": [
    {
     "data": {
      "text/html": [
       "<div>\n",
       "<style scoped>\n",
       "    .dataframe tbody tr th:only-of-type {\n",
       "        vertical-align: middle;\n",
       "    }\n",
       "\n",
       "    .dataframe tbody tr th {\n",
       "        vertical-align: top;\n",
       "    }\n",
       "\n",
       "    .dataframe thead th {\n",
       "        text-align: right;\n",
       "    }\n",
       "</style>\n",
       "<table border=\"1\" class=\"dataframe\">\n",
       "  <thead>\n",
       "    <tr style=\"text-align: right;\">\n",
       "      <th></th>\n",
       "      <th>admission_type_id</th>\n",
       "      <th>AdmissionType</th>\n",
       "    </tr>\n",
       "  </thead>\n",
       "  <tbody>\n",
       "    <tr>\n",
       "      <th>0</th>\n",
       "      <td>1</td>\n",
       "      <td>Emergency</td>\n",
       "    </tr>\n",
       "    <tr>\n",
       "      <th>1</th>\n",
       "      <td>2</td>\n",
       "      <td>Urgent</td>\n",
       "    </tr>\n",
       "    <tr>\n",
       "      <th>2</th>\n",
       "      <td>3</td>\n",
       "      <td>Elective</td>\n",
       "    </tr>\n",
       "    <tr>\n",
       "      <th>3</th>\n",
       "      <td>4</td>\n",
       "      <td>Newborn</td>\n",
       "    </tr>\n",
       "    <tr>\n",
       "      <th>4</th>\n",
       "      <td>5</td>\n",
       "      <td>Not Available</td>\n",
       "    </tr>\n",
       "    <tr>\n",
       "      <th>5</th>\n",
       "      <td>6</td>\n",
       "      <td>NaN</td>\n",
       "    </tr>\n",
       "    <tr>\n",
       "      <th>6</th>\n",
       "      <td>7</td>\n",
       "      <td>Trauma Center</td>\n",
       "    </tr>\n",
       "    <tr>\n",
       "      <th>7</th>\n",
       "      <td>8</td>\n",
       "      <td>Not Mapped</td>\n",
       "    </tr>\n",
       "  </tbody>\n",
       "</table>\n",
       "</div>"
      ],
      "text/plain": [
       "   admission_type_id  AdmissionType\n",
       "0                  1      Emergency\n",
       "1                  2         Urgent\n",
       "2                  3       Elective\n",
       "3                  4        Newborn\n",
       "4                  5  Not Available\n",
       "5                  6            NaN\n",
       "6                  7  Trauma Center\n",
       "7                  8     Not Mapped"
      ]
     },
     "execution_count": 185,
     "metadata": {},
     "output_type": "execute_result"
    }
   ],
   "source": [
    "admtypid_df = pd.read_csv(admission_type_mapping_data)\n",
    "admtypid_df.rename(columns={'description' : 'AdmissionType'}, inplace=True)\n",
    "admtypid_df"
   ]
  },
  {
   "cell_type": "code",
   "execution_count": 186,
   "metadata": {},
   "outputs": [],
   "source": [
    "jdf = pd.merge(df, admtypid_df, on = 'admission_type_id', how ='inner')"
   ]
  },
  {
   "cell_type": "code",
   "execution_count": 187,
   "metadata": {},
   "outputs": [
    {
     "name": "stdout",
     "output_type": "stream",
     "text": [
      "Column name: AdmissionType\n",
      "Data type: object\n",
      "\n",
      "Count of NAs: 5291, %NAs = 5.199335711407879\n",
      "\n",
      "Number of unique values: 8\n",
      "\n",
      "Unique values: \n",
      "[nan 'Emergency' 'Urgent' 'Elective' 'Newborn' 'Not Available'\n",
      " 'Not Mapped' 'Trauma Center']\n",
      "\n",
      "Value counts: \n",
      "AdmissionType\n",
      "Emergency        53988\n",
      "Elective         18868\n",
      "Urgent           18480\n",
      "Not Available     4785\n",
      "Not Mapped         320\n",
      "Trauma Center       21\n",
      "Newborn             10\n",
      "Name: count, dtype: int64\n",
      "\n",
      "Statistics\n",
      "count         96472\n",
      "unique            7\n",
      "top       Emergency\n",
      "freq          53988\n",
      "Name: AdmissionType, dtype: object\n"
     ]
    }
   ],
   "source": [
    "analyzeNumericalColumn(jdf, 'AdmissionType')"
   ]
  },
  {
   "cell_type": "markdown",
   "metadata": {},
   "source": [
    "admission_type_id is in fact categorical. Lets change the type to categorical."
   ]
  },
  {
   "cell_type": "code",
   "execution_count": 188,
   "metadata": {},
   "outputs": [],
   "source": [
    "df['admission_type_id'] = df['admission_type_id'].astype('category')"
   ]
  },
  {
   "cell_type": "markdown",
   "metadata": {},
   "source": [
    "### Column: 'discharge_disposition_id'"
   ]
  },
  {
   "cell_type": "code",
   "execution_count": 189,
   "metadata": {},
   "outputs": [],
   "source": [
    "disdisp_df = pd.read_csv(discharge_disposition_data)\n",
    "disdisp_df.rename(columns = {'description' : \"DischargeDisposition\"}, inplace=True)\n",
    "# impute NaNs\n",
    "disdisp_df.fillna('Unknown', inplace = True)"
   ]
  },
  {
   "cell_type": "code",
   "execution_count": 190,
   "metadata": {},
   "outputs": [],
   "source": [
    "jdf = pd.merge(df, disdisp_df, on = 'discharge_disposition_id', how = 'inner')"
   ]
  },
  {
   "cell_type": "code",
   "execution_count": 191,
   "metadata": {},
   "outputs": [
    {
     "name": "stdout",
     "output_type": "stream",
     "text": [
      "Column name: DischargeDisposition\n",
      "Data type: object\n",
      "\n",
      "Count of NAs: 0, %NAs = 0.0\n",
      "\n",
      "Number of unique values: 26\n",
      "\n",
      "Unique values: \n",
      "['Not Mapped' 'Discharged to home' 'Discharged/transferred to SNF'\n",
      " 'Discharged/transferred to home with home health service'\n",
      " 'Discharged/transferred to another short term hospital'\n",
      " 'Discharged/transferred to another type of inpatient care institution'\n",
      " 'Expired' 'Left AMA'\n",
      " 'Neonate discharged to another hospital for neonatal aftercare'\n",
      " 'Discharged/transferred to ICF' 'Hospice / medical facility' 'Unknown'\n",
      " 'Discharged/transferred to home under care of Home IV provider'\n",
      " 'Hospice / home'\n",
      " 'Still patient or expected to return for outpatient services'\n",
      " 'Discharged/transferred/referred another institution for outpatient services'\n",
      " 'Discharged/transferred/referred to this institution for outpatient services'\n",
      " 'Discharged/transferred to another rehab fac including rehab units of a hospital .'\n",
      " 'Discharged/transferred to a long term care hospital.'\n",
      " 'Admitted as an inpatient to this hospital'\n",
      " 'Expired in a medical facility. Medicaid only, hospice.'\n",
      " 'Discharged/transferred within this institution to Medicare approved swing bed'\n",
      " 'Discharged/transferred to a nursing facility certified under Medicaid but not certified under Medicare.'\n",
      " 'Discharged/transferred/referred to a psychiatric hospital of psychiatric distinct part unit of a hospital'\n",
      " 'Expired at home. Medicaid only, hospice.'\n",
      " 'Discharged/transferred to a federal health care facility.']\n",
      "\n",
      "Value counts: \n",
      "DischargeDisposition\n",
      "Discharged to home                                                                                           60232\n",
      "Discharged/transferred to SNF                                                                                13954\n",
      "Discharged/transferred to home with home health service                                                      12902\n",
      "Unknown                                                                                                       3691\n",
      "Discharged/transferred to another short term hospital                                                         2128\n",
      "Discharged/transferred to another rehab fac including rehab units of a hospital .                             1992\n",
      "Expired                                                                                                       1642\n",
      "Discharged/transferred to another type of inpatient care institution                                          1184\n",
      "Not Mapped                                                                                                     989\n",
      "Discharged/transferred to ICF                                                                                  815\n",
      "Left AMA                                                                                                       623\n",
      "Discharged/transferred to a long term care hospital.                                                           412\n",
      "Hospice / home                                                                                                 399\n",
      "Hospice / medical facility                                                                                     372\n",
      "Discharged/transferred/referred to a psychiatric hospital of psychiatric distinct part unit of a hospital      139\n",
      "Discharged/transferred to home under care of Home IV provider                                                  108\n",
      "Discharged/transferred within this institution to Medicare approved swing bed                                   63\n",
      "Discharged/transferred to a nursing facility certified under Medicaid but not certified under Medicare.         48\n",
      "Admitted as an inpatient to this hospital                                                                       21\n",
      "Discharged/transferred/referred to this institution for outpatient services                                     14\n",
      "Discharged/transferred/referred another institution for outpatient services                                     11\n",
      "Expired at home. Medicaid only, hospice.                                                                         8\n",
      "Neonate discharged to another hospital for neonatal aftercare                                                    6\n",
      "Discharged/transferred to a federal health care facility.                                                        5\n",
      "Still patient or expected to return for outpatient services                                                      3\n",
      "Expired in a medical facility. Medicaid only, hospice.                                                           2\n",
      "Name: count, dtype: int64\n",
      "\n",
      "Statistics\n",
      "count                 101763\n",
      "unique                    26\n",
      "top       Discharged to home\n",
      "freq                   60232\n",
      "Name: DischargeDisposition, dtype: object\n"
     ]
    }
   ],
   "source": [
    "analyzeNumericalColumn(jdf, 'DischargeDisposition')"
   ]
  },
  {
   "cell_type": "markdown",
   "metadata": {},
   "source": [
    "Drop rows which have discharge disposition id mapping to either hospice or expired"
   ]
  },
  {
   "cell_type": "code",
   "execution_count": 192,
   "metadata": {},
   "outputs": [],
   "source": [
    "valuesToDiscard = ['expired', 'hospice']\n",
    "expired_disp_ids = disdisp_df[disdisp_df['DischargeDisposition'].str.contains('expired|hospice', case=False, regex=True)]['discharge_disposition_id']\n",
    "df = df[~df['discharge_disposition_id'].isin(expired_disp_ids)]"
   ]
  },
  {
   "cell_type": "markdown",
   "metadata": {},
   "source": [
    "Even the column discharge_disposition_id is in fact categorical. Lets change the column to categorical type."
   ]
  },
  {
   "cell_type": "code",
   "execution_count": 193,
   "metadata": {},
   "outputs": [],
   "source": [
    "df['discharge_disposition_id'] = df['discharge_disposition_id'].astype('category')"
   ]
  },
  {
   "cell_type": "markdown",
   "metadata": {},
   "source": [
    "We ignore the rows where the patient either expired or moved to hospice."
   ]
  },
  {
   "cell_type": "markdown",
   "metadata": {},
   "source": [
    "### Column: 'admission_source_id'"
   ]
  },
  {
   "cell_type": "code",
   "execution_count": 194,
   "metadata": {},
   "outputs": [
    {
     "name": "stdout",
     "output_type": "stream",
     "text": [
      "Column name: admission_source_id\n",
      "Data type: int64\n",
      "\n",
      "Count of NAs: 0, %NAs = 0.0\n",
      "\n",
      "Number of unique values: 17\n",
      "\n",
      "Unique values: \n",
      "[ 1  7  2  4  5 20  6  3 17  8  9 14 10 22 11 25 13]\n",
      "\n",
      "Value counts: \n",
      "admission_source_id\n",
      "7     55848\n",
      "1     29167\n",
      "17     6570\n",
      "4      3118\n",
      "6      2239\n",
      "2      1081\n",
      "5       806\n",
      "3       185\n",
      "20      159\n",
      "9       125\n",
      "8        15\n",
      "22       12\n",
      "10        8\n",
      "14        2\n",
      "11        2\n",
      "25        2\n",
      "13        1\n",
      "Name: count, dtype: int64\n",
      "\n",
      "Statistics\n",
      "count    99340.000000\n",
      "mean         5.731105\n",
      "std          4.065059\n",
      "min          1.000000\n",
      "25%          1.000000\n",
      "50%          7.000000\n",
      "75%          7.000000\n",
      "max         25.000000\n",
      "Name: admission_source_id, dtype: float64\n"
     ]
    }
   ],
   "source": [
    "analyzeNumericalColumn(df, 'admission_source_id')"
   ]
  },
  {
   "cell_type": "markdown",
   "metadata": {},
   "source": [
    "Again the column admission_source_id is categorical. Lets change the type."
   ]
  },
  {
   "cell_type": "code",
   "execution_count": 195,
   "metadata": {},
   "outputs": [],
   "source": [
    "df['admission_source_id'] = df['admission_source_id'].astype('category')"
   ]
  },
  {
   "cell_type": "markdown",
   "metadata": {},
   "source": [
    "### Column: 'time_in_hospital'"
   ]
  },
  {
   "cell_type": "code",
   "execution_count": 196,
   "metadata": {},
   "outputs": [
    {
     "name": "stdout",
     "output_type": "stream",
     "text": [
      "Column name: time_in_hospital\n",
      "Data type: int64\n",
      "\n",
      "Count of NAs: 0, %NAs = 0.0\n",
      "\n",
      "Number of unique values: 14\n",
      "\n",
      "Unique values: \n",
      "[ 1  3  2  4  5 13 12  9  7 10  6 11  8 14]\n",
      "\n",
      "Value counts: \n",
      "time_in_hospital\n",
      "3     17432\n",
      "2     16891\n",
      "1     13822\n",
      "4     13684\n",
      "5      9749\n",
      "6      7355\n",
      "7      5696\n",
      "8      4270\n",
      "9      2879\n",
      "10     2262\n",
      "11     1770\n",
      "12     1383\n",
      "13     1152\n",
      "14      995\n",
      "Name: count, dtype: int64\n",
      "\n",
      "Statistics\n",
      "count    99340.000000\n",
      "mean         4.379364\n",
      "std          2.968393\n",
      "min          1.000000\n",
      "25%          2.000000\n",
      "50%          4.000000\n",
      "75%          6.000000\n",
      "max         14.000000\n",
      "Name: time_in_hospital, dtype: float64\n"
     ]
    }
   ],
   "source": [
    "analyzeNumericalColumn(df, 'time_in_hospital')"
   ]
  },
  {
   "cell_type": "markdown",
   "metadata": {},
   "source": [
    "We keep the column as numerical."
   ]
  },
  {
   "cell_type": "markdown",
   "metadata": {},
   "source": [
    "### Column: 'num_lab_procedures'"
   ]
  },
  {
   "cell_type": "code",
   "execution_count": 197,
   "metadata": {},
   "outputs": [
    {
     "name": "stdout",
     "output_type": "stream",
     "text": [
      "Column name: num_lab_procedures\n",
      "Data type: int64\n",
      "\n",
      "Count of NAs: 0, %NAs = 0.0\n",
      "\n",
      "Number of unique values: 118\n",
      "\n",
      "Unique values: \n",
      "[ 41  59  11  44  51  31  70  73  68  33  47  62  60  55  49  75  45  29\n",
      "  35  42  66  36  19  64  25  53  52  87  27  37  28  48  10   2  65  67\n",
      "  40  54  58  57  43  32  83  34  39  69  38  72  22  96  46  78  56  61\n",
      "  88  50   1  18  82   9  63  24  71  77  81  76  90  93   3 103  13  80\n",
      "  85  16  15  12  30  23  17  21  79  26   5  95  97  84  14  74 105  86\n",
      "  98  20   6  94   8 102   7  89  91  92   4 101  99 100 114 113 111 129\n",
      " 107 108 106 104 109 120 132 121 126 118]\n",
      "\n",
      "Value counts: \n",
      "num_lab_procedures\n",
      "1      3153\n",
      "43     2752\n",
      "44     2447\n",
      "45     2331\n",
      "38     2179\n",
      "       ... \n",
      "120       1\n",
      "132       1\n",
      "121       1\n",
      "126       1\n",
      "118       1\n",
      "Name: count, Length: 118, dtype: int64\n",
      "\n",
      "Statistics\n",
      "count    99340.000000\n",
      "mean        42.907198\n",
      "std         19.609887\n",
      "min          1.000000\n",
      "25%         31.000000\n",
      "50%         44.000000\n",
      "75%         57.000000\n",
      "max        132.000000\n",
      "Name: num_lab_procedures, dtype: float64\n"
     ]
    }
   ],
   "source": [
    "analyzeNumericalColumn(df, 'num_lab_procedures')"
   ]
  },
  {
   "cell_type": "markdown",
   "metadata": {},
   "source": [
    "We keep this column as is."
   ]
  },
  {
   "cell_type": "markdown",
   "metadata": {},
   "source": [
    "### Column: 'num_procedures'"
   ]
  },
  {
   "cell_type": "code",
   "execution_count": 198,
   "metadata": {},
   "outputs": [
    {
     "name": "stdout",
     "output_type": "stream",
     "text": [
      "Column name: num_procedures\n",
      "Data type: int64\n",
      "\n",
      "Count of NAs: 0, %NAs = 0.0\n",
      "\n",
      "Number of unique values: 7\n",
      "\n",
      "Unique values: \n",
      "[0 5 1 6 2 3 4]\n",
      "\n",
      "Value counts: \n",
      "num_procedures\n",
      "0    45679\n",
      "1    20249\n",
      "2    12372\n",
      "3     9203\n",
      "6     4801\n",
      "4     4049\n",
      "5     2987\n",
      "Name: count, dtype: int64\n",
      "\n",
      "Statistics\n",
      "count    99340.000000\n",
      "mean         1.334196\n",
      "std          1.702770\n",
      "min          0.000000\n",
      "25%          0.000000\n",
      "50%          1.000000\n",
      "75%          2.000000\n",
      "max          6.000000\n",
      "Name: num_procedures, dtype: float64\n"
     ]
    }
   ],
   "source": [
    "analyzeNumericalColumn(df, 'num_procedures')"
   ]
  },
  {
   "cell_type": "markdown",
   "metadata": {},
   "source": [
    "We keep this column as is."
   ]
  },
  {
   "cell_type": "markdown",
   "metadata": {},
   "source": [
    "### Column: 'num_medications'"
   ]
  },
  {
   "cell_type": "code",
   "execution_count": 199,
   "metadata": {},
   "outputs": [
    {
     "name": "stdout",
     "output_type": "stream",
     "text": [
      "Column name: num_medications\n",
      "Data type: int64\n",
      "\n",
      "Count of NAs: 0, %NAs = 0.0\n",
      "\n",
      "Number of unique values: 75\n",
      "\n",
      "Unique values: \n",
      "[ 1 18 13 16  8 21 12 28 17 11 15 31  2 23 19  7 20 14 10 22  9 25  4 32\n",
      "  6 26 24 33  5 27 39  3 30 29 61 40 46 41 36 34 35 50 43 42 37 51 38 45\n",
      " 54 52 49 62 55 47 44 53 48 57 59 56 60 63 58 70 67 64 69 65 68 66 81 79\n",
      " 75 72 74]\n",
      "\n",
      "Value counts: \n",
      "num_medications\n",
      "13    5976\n",
      "12    5888\n",
      "11    5696\n",
      "15    5694\n",
      "14    5592\n",
      "      ... \n",
      "70       2\n",
      "75       2\n",
      "81       1\n",
      "79       1\n",
      "74       1\n",
      "Name: count, Length: 75, dtype: int64\n",
      "\n",
      "Statistics\n",
      "count    99340.000000\n",
      "mean        15.979052\n",
      "std          8.094931\n",
      "min          1.000000\n",
      "25%         10.000000\n",
      "50%         15.000000\n",
      "75%         20.000000\n",
      "max         81.000000\n",
      "Name: num_medications, dtype: float64\n"
     ]
    }
   ],
   "source": [
    "analyzeNumericalColumn(df, 'num_medications')"
   ]
  },
  {
   "cell_type": "markdown",
   "metadata": {},
   "source": [
    "We keep this column as is."
   ]
  },
  {
   "cell_type": "markdown",
   "metadata": {},
   "source": [
    "### Column: 'number_outpatient'"
   ]
  },
  {
   "cell_type": "code",
   "execution_count": 200,
   "metadata": {},
   "outputs": [
    {
     "name": "stdout",
     "output_type": "stream",
     "text": [
      "Column name: number_outpatient\n",
      "Data type: int64\n",
      "\n",
      "Count of NAs: 0, %NAs = 0.0\n",
      "\n",
      "Number of unique values: 39\n",
      "\n",
      "Unique values: \n",
      "[ 0  2  1  5  7  9  3  8  4 12 11  6 20 15 10 13 14 16 21 35 17 29 36 18\n",
      " 19 27 22 24 42 39 34 26 33 25 23 28 37 38 40]\n",
      "\n",
      "Value counts: \n",
      "number_outpatient\n",
      "0     82991\n",
      "1      8349\n",
      "2      3509\n",
      "3      1997\n",
      "4      1077\n",
      "5       514\n",
      "6       294\n",
      "7       154\n",
      "8        96\n",
      "9        82\n",
      "10       57\n",
      "11       41\n",
      "13       30\n",
      "12       29\n",
      "14       28\n",
      "15       20\n",
      "16       13\n",
      "17        8\n",
      "20        6\n",
      "21        6\n",
      "18        5\n",
      "22        5\n",
      "19        3\n",
      "24        3\n",
      "27        3\n",
      "35        2\n",
      "29        2\n",
      "36        2\n",
      "23        2\n",
      "33        2\n",
      "26        2\n",
      "34        1\n",
      "39        1\n",
      "42        1\n",
      "25        1\n",
      "28        1\n",
      "37        1\n",
      "38        1\n",
      "40        1\n",
      "Name: count, dtype: int64\n",
      "\n",
      "Statistics\n",
      "count    99340.000000\n",
      "mean         0.369257\n",
      "std          1.265160\n",
      "min          0.000000\n",
      "25%          0.000000\n",
      "50%          0.000000\n",
      "75%          0.000000\n",
      "max         42.000000\n",
      "Name: number_outpatient, dtype: float64\n"
     ]
    }
   ],
   "source": [
    "analyzeNumericalColumn(df, 'number_outpatient')"
   ]
  },
  {
   "cell_type": "markdown",
   "metadata": {},
   "source": [
    "We keep this column as is."
   ]
  },
  {
   "cell_type": "markdown",
   "metadata": {},
   "source": [
    "### Column: 'number_emergency'"
   ]
  },
  {
   "cell_type": "code",
   "execution_count": 201,
   "metadata": {},
   "outputs": [
    {
     "name": "stdout",
     "output_type": "stream",
     "text": [
      "Column name: number_emergency\n",
      "Data type: int64\n",
      "\n",
      "Count of NAs: 0, %NAs = 0.0\n",
      "\n",
      "Number of unique values: 33\n",
      "\n",
      "Unique values: \n",
      "[ 0  1  2  4  3  9  5  7  6  8 22 25 10 13 42 16 11 28 15 14 18 12 21 20\n",
      " 19 46 76 37 64 63 54 24 29]\n",
      "\n",
      "Value counts: \n",
      "number_emergency\n",
      "0     88246\n",
      "1      7474\n",
      "2      1984\n",
      "3       706\n",
      "4       369\n",
      "5       190\n",
      "6        93\n",
      "7        72\n",
      "8        50\n",
      "10       34\n",
      "9        33\n",
      "11       23\n",
      "13       12\n",
      "12       10\n",
      "22        6\n",
      "18        5\n",
      "16        5\n",
      "20        4\n",
      "19        4\n",
      "15        3\n",
      "14        3\n",
      "21        2\n",
      "25        2\n",
      "42        1\n",
      "28        1\n",
      "46        1\n",
      "76        1\n",
      "37        1\n",
      "64        1\n",
      "63        1\n",
      "54        1\n",
      "24        1\n",
      "29        1\n",
      "Name: count, dtype: int64\n",
      "\n",
      "Statistics\n",
      "count    99340.000000\n",
      "mean         0.198450\n",
      "std          0.937747\n",
      "min          0.000000\n",
      "25%          0.000000\n",
      "50%          0.000000\n",
      "75%          0.000000\n",
      "max         76.000000\n",
      "Name: number_emergency, dtype: float64\n"
     ]
    }
   ],
   "source": [
    "analyzeNumericalColumn(df, 'number_emergency')"
   ]
  },
  {
   "cell_type": "markdown",
   "metadata": {},
   "source": [
    "We keep this column as is."
   ]
  },
  {
   "cell_type": "markdown",
   "metadata": {},
   "source": [
    "### Column: 'number_inpatient'"
   ]
  },
  {
   "cell_type": "code",
   "execution_count": 202,
   "metadata": {},
   "outputs": [
    {
     "name": "stdout",
     "output_type": "stream",
     "text": [
      "Column name: number_inpatient\n",
      "Data type: int64\n",
      "\n",
      "Count of NAs: 0, %NAs = 0.0\n",
      "\n",
      "Number of unique values: 21\n",
      "\n",
      "Unique values: \n",
      "[ 0  1  2  3  6  5  4  7  9  8 15 10 11 14 12 13 17 16 21 18 19]\n",
      "\n",
      "Value counts: \n",
      "number_inpatient\n",
      "0     66242\n",
      "1     18984\n",
      "2      7300\n",
      "3      3271\n",
      "4      1574\n",
      "5       791\n",
      "6       474\n",
      "7       262\n",
      "8       145\n",
      "9       109\n",
      "10       59\n",
      "11       49\n",
      "12       32\n",
      "13       18\n",
      "14       10\n",
      "15        9\n",
      "16        6\n",
      "19        2\n",
      "17        1\n",
      "21        1\n",
      "18        1\n",
      "Name: count, dtype: int64\n",
      "\n",
      "Statistics\n",
      "count    99340.000000\n",
      "mean         0.630954\n",
      "std          1.260443\n",
      "min          0.000000\n",
      "25%          0.000000\n",
      "50%          0.000000\n",
      "75%          1.000000\n",
      "max         21.000000\n",
      "Name: number_inpatient, dtype: float64\n"
     ]
    }
   ],
   "source": [
    "analyzeNumericalColumn(df, 'number_inpatient')"
   ]
  },
  {
   "cell_type": "markdown",
   "metadata": {},
   "source": [
    "We keep this column as is."
   ]
  },
  {
   "cell_type": "markdown",
   "metadata": {},
   "source": [
    "### Column: 'number_diagnoses'"
   ]
  },
  {
   "cell_type": "code",
   "execution_count": 203,
   "metadata": {},
   "outputs": [
    {
     "name": "stdout",
     "output_type": "stream",
     "text": [
      "Column name: number_diagnoses\n",
      "Data type: int64\n",
      "\n",
      "Count of NAs: 0, %NAs = 0.0\n",
      "\n",
      "Number of unique values: 16\n",
      "\n",
      "Unique values: \n",
      "[ 1  9  6  7  5  8  3  4  2 16 12 13 15 10 11 14]\n",
      "\n",
      "Value counts: \n",
      "number_diagnoses\n",
      "9     47809\n",
      "5     11300\n",
      "8     10359\n",
      "7     10215\n",
      "6      9986\n",
      "4      5498\n",
      "3      2824\n",
      "2      1021\n",
      "1       219\n",
      "16       42\n",
      "13       16\n",
      "10       16\n",
      "11       11\n",
      "15       10\n",
      "12        8\n",
      "14        6\n",
      "Name: count, dtype: int64\n",
      "\n",
      "Statistics\n",
      "count    99340.000000\n",
      "mean         7.401752\n",
      "std          1.940990\n",
      "min          1.000000\n",
      "25%          6.000000\n",
      "50%          8.000000\n",
      "75%          9.000000\n",
      "max         16.000000\n",
      "Name: number_diagnoses, dtype: float64\n"
     ]
    }
   ],
   "source": [
    "analyzeNumericalColumn(df, 'number_diagnoses')"
   ]
  },
  {
   "cell_type": "markdown",
   "metadata": {},
   "source": [
    "We keep this column as is."
   ]
  },
  {
   "cell_type": "markdown",
   "metadata": {},
   "source": [
    "With this, we are done with cleaning up all columns in the dataframe."
   ]
  },
  {
   "cell_type": "markdown",
   "metadata": {},
   "source": [
    "## Duplicate rows handling"
   ]
  },
  {
   "cell_type": "code",
   "execution_count": 204,
   "metadata": {},
   "outputs": [
    {
     "name": "stdout",
     "output_type": "stream",
     "text": [
      "Number of duplicated patients: 29353, percentage = 29.54801691161667\n"
     ]
    }
   ],
   "source": [
    "duplicatedPatients = df['patient_nbr'].duplicated().sum()\n",
    "print(f'Number of duplicated patients: {duplicatedPatients}, percentage = {duplicatedPatients/len(df)*100}')"
   ]
  },
  {
   "cell_type": "markdown",
   "metadata": {},
   "source": [
    "Lets look at how many encounters, a patient had across dataset."
   ]
  },
  {
   "cell_type": "code",
   "execution_count": 205,
   "metadata": {},
   "outputs": [
    {
     "data": {
      "image/png": "[encoded data removed]",
      "text/plain": [
       "<Figure size 640x480 with 1 Axes>"
      ]
     },
     "metadata": {},
     "output_type": "display_data"
    }
   ],
   "source": [
    "df_patvisits = df.groupby('patient_nbr')['encounter_id'].count().reset_index(name = '#encounters') \\\n",
    ".groupby('#encounters')['patient_nbr'].count().reset_index(name = '#patients') \\\n",
    ".sort_values(by = '#patients', ascending = False).set_index('#encounters')\n",
    "sns.barplot(x = df_patvisits.index, y = df_patvisits['#patients'])\n",
    "plt.xlabel('# encounters')\n",
    "plt.ylabel('# patients')\n",
    "plt.show()"
   ]
  },
  {
   "cell_type": "markdown",
   "metadata": {},
   "source": [
    "For now, we keep just the first encounter for a given patient."
   ]
  },
  {
   "cell_type": "code",
   "execution_count": 206,
   "metadata": {},
   "outputs": [],
   "source": [
    "df = df.drop_duplicates(subset = ['patient_nbr'], keep = 'first')"
   ]
  },
  {
   "cell_type": "markdown",
   "metadata": {},
   "source": [
    "## Save the file locally."
   ]
  },
  {
   "cell_type": "code",
   "execution_count": 207,
   "metadata": {},
   "outputs": [],
   "source": [
    "df.to_pickle(preprocessed_saved_filepath)"
   ]
  }
 ],
 "metadata": {
  "kernelspec": {
   "display_name": "Python 3",
   "language": "python",
   "name": "python3"
  },
  "language_info": {
   "codemirror_mode": {
    "name": "ipython",
    "version": 3
   },
   "file_extension": ".py",
   "mimetype": "text/x-python",
   "name": "python",
   "nbconvert_exporter": "python",
   "pygments_lexer": "ipython3",
   "version": "3.12.1"
  }
 },
 "nbformat": 4,
 "nbformat_minor": 2
}
