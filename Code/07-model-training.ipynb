{
 "cells": [
  {
   "cell_type": "code",
   "execution_count": 19,
   "metadata": {},
   "outputs": [],
   "source": [
    "from lightgbm import LGBMClassifier\n",
    "import os\n",
    "import pandas as pd\n",
    "import numpy as np\n",
    "import matplotlib.pyplot as plt\n",
    "from sklearn.model_selection import train_test_split\n",
    "from sklearn.metrics import (\n",
    "    accuracy_score,\n",
    "    precision_score,\n",
    "    recall_score,\n",
    "    f1_score,\n",
    "    confusion_matrix,\n",
    "    ConfusionMatrixDisplay\n",
    ")\n",
    "from sklearn.preprocessing import OneHotEncoder\n",
    "from sklearn.compose import ColumnTransformer\n",
    "from sklearn.pipeline import Pipeline\n",
    "from sklearn.impute import SimpleImputer\n",
    "from sklearn.model_selection import GridSearchCV"
   ]
  },
  {
   "cell_type": "code",
   "execution_count": 20,
   "metadata": {},
   "outputs": [],
   "source": [
    "# Definition of paths\n",
    "data_dir = os.path.join(os.getcwd(), '../Dataset')\n",
    "\n",
    "raw_data_dir = os.path.join(data_dir, 'raw')\n",
    "ids_mapping = os.path.join(raw_data_dir, 'IDS_mapping.csv')\n",
    "diabetes_data = os.path.join(raw_data_dir, 'diabetic_data.csv')\n",
    "\n",
    "mapping_data_dir = os.path.join(data_dir, 'Mapping')\n",
    "os.makedirs(mapping_data_dir, exist_ok=True)\n",
    "\n",
    "preprocessed_out_dir = os.path.join(data_dir, 'Preprocessed')\n",
    "os.makedirs(preprocessed_out_dir, exist_ok=True)\n",
    "\n",
    "admission_type_mapping_data = os.path.join(mapping_data_dir, 'admission_type_mapping.csv')\n",
    "discharge_disposition_data = os.path.join(mapping_data_dir, 'discharge_disposition_mapping.csv')\n",
    "admission_source_mapping_data = os.path.join(mapping_data_dir, 'admission_source_mapping.csv')\n",
    "\n",
    "preprocessed_saved_filepath = os.path.join(preprocessed_out_dir, 'preprocessed.pkl')"
   ]
  },
  {
   "cell_type": "code",
   "execution_count": 21,
   "metadata": {},
   "outputs": [],
   "source": [
    "df = pd.read_pickle(preprocessed_saved_filepath)"
   ]
  },
  {
   "cell_type": "code",
   "execution_count": 22,
   "metadata": {},
   "outputs": [
    {
     "name": "stdout",
     "output_type": "stream",
     "text": [
      "<class 'pandas.core.frame.DataFrame'>\n",
      "Index: 69987 entries, 0 to 101765\n",
      "Data columns (total 44 columns):\n",
      " #   Column                    Non-Null Count  Dtype   \n",
      "---  ------                    --------------  -----   \n",
      " 0   encounter_id              69987 non-null  int64   \n",
      " 1   patient_nbr               69987 non-null  int64   \n",
      " 2   race                      69987 non-null  category\n",
      " 3   gender                    69987 non-null  object  \n",
      " 4   age                       69987 non-null  object  \n",
      " 5   admission_type_id         69987 non-null  category\n",
      " 6   discharge_disposition_id  69987 non-null  category\n",
      " 7   admission_source_id       69987 non-null  category\n",
      " 8   time_in_hospital          69987 non-null  int64   \n",
      " 9   medical_specialty         69987 non-null  category\n",
      " 10  num_lab_procedures        69987 non-null  int64   \n",
      " 11  num_procedures            69987 non-null  int64   \n",
      " 12  num_medications           69987 non-null  int64   \n",
      " 13  number_outpatient         69987 non-null  int64   \n",
      " 14  number_emergency          69987 non-null  int64   \n",
      " 15  number_inpatient          69987 non-null  int64   \n",
      " 16  diag_1                    69987 non-null  category\n",
      " 17  diag_2                    69987 non-null  category\n",
      " 18  diag_3                    69987 non-null  category\n",
      " 19  number_diagnoses          69987 non-null  int64   \n",
      " 20  max_glu_serum             69987 non-null  int64   \n",
      " 21  A1Cresult                 69987 non-null  int64   \n",
      " 22  metformin                 69987 non-null  int64   \n",
      " 23  repaglinide               69987 non-null  int64   \n",
      " 24  glimepiride               69987 non-null  int64   \n",
      " 25  glipizide                 69987 non-null  int64   \n",
      " 26  glyburide                 69987 non-null  int64   \n",
      " 27  pioglitazone              69987 non-null  int64   \n",
      " 28  rosiglitazone             69987 non-null  int64   \n",
      " 29  insulin                   69987 non-null  int64   \n",
      " 30  change                    69987 non-null  category\n",
      " 31  diabetesMed               69987 non-null  category\n",
      " 32  readmitted                69987 non-null  category\n",
      " 33  age-binned                69987 non-null  category\n",
      " 34  max_glu_serum_measured    69987 non-null  category\n",
      " 35  A1Cresult_measured        69987 non-null  category\n",
      " 36  repaglinide_measured      69987 non-null  category\n",
      " 37  glimepiride_measured      69987 non-null  category\n",
      " 38  rosiglitazone_measured    69987 non-null  category\n",
      " 39  pioglitazone_measured     69987 non-null  category\n",
      " 40  glyburide_measured        69987 non-null  category\n",
      " 41  glipizide_measured        69987 non-null  category\n",
      " 42  metformin_measured        69987 non-null  category\n",
      " 43  insulin_measured          69987 non-null  category\n",
      "dtypes: category(22), int64(20), object(2)\n",
      "memory usage: 13.8+ MB\n"
     ]
    }
   ],
   "source": [
    "df.info()"
   ]
  },
  {
   "cell_type": "code",
   "execution_count": 23,
   "metadata": {},
   "outputs": [
    {
     "name": "stdout",
     "output_type": "stream",
     "text": [
      "encounter_id                   int64\n",
      "patient_nbr                    int64\n",
      "race                        category\n",
      "gender                        object\n",
      "age                           object\n",
      "admission_type_id           category\n",
      "discharge_disposition_id    category\n",
      "admission_source_id         category\n",
      "time_in_hospital               int64\n",
      "medical_specialty           category\n",
      "num_lab_procedures             int64\n",
      "num_procedures                 int64\n",
      "num_medications                int64\n",
      "number_outpatient              int64\n",
      "number_emergency               int64\n",
      "number_inpatient               int64\n",
      "diag_1                      category\n",
      "diag_2                      category\n",
      "diag_3                      category\n",
      "number_diagnoses               int64\n",
      "max_glu_serum                  int64\n",
      "A1Cresult                      int64\n",
      "metformin                      int64\n",
      "repaglinide                    int64\n",
      "glimepiride                    int64\n",
      "glipizide                      int64\n",
      "glyburide                      int64\n",
      "pioglitazone                   int64\n",
      "rosiglitazone                  int64\n",
      "insulin                        int64\n",
      "change                      category\n",
      "diabetesMed                 category\n",
      "readmitted                  category\n",
      "age-binned                  category\n",
      "max_glu_serum_measured      category\n",
      "A1Cresult_measured          category\n",
      "repaglinide_measured        category\n",
      "glimepiride_measured        category\n",
      "rosiglitazone_measured      category\n",
      "pioglitazone_measured       category\n",
      "glyburide_measured          category\n",
      "glipizide_measured          category\n",
      "metformin_measured          category\n",
      "insulin_measured            category\n",
      "dtype: object\n"
     ]
    }
   ],
   "source": [
    "print(df.dtypes)"
   ]
  },
  {
   "cell_type": "code",
   "execution_count": 24,
   "metadata": {},
   "outputs": [],
   "source": [
    "for col in df.columns:\n",
    "    if 'gender' in col:\n",
    "        df[col] = df[col].astype('category')"
   ]
  },
  {
   "cell_type": "code",
   "execution_count": 25,
   "metadata": {},
   "outputs": [],
   "source": [
    "df[\"readmitted\"] = df[\"readmitted\"].map({\"YES\": 1, \"NO\": 0})"
   ]
  },
  {
   "cell_type": "code",
   "execution_count": 26,
   "metadata": {},
   "outputs": [],
   "source": [
    "df.drop(columns=[\"encounter_id\", \"patient_nbr\", \"age\", \"max_glu_serum\", \"A1Cresult\", \"metformin\", \"repaglinide\", \"glimepiride\", \"glipizide\", \"glyburide\", \"pioglitazone\", \"rosiglitazone\", \"insulin\"], inplace=True)"
   ]
  },
  {
   "cell_type": "code",
   "execution_count": 27,
   "metadata": {},
   "outputs": [
    {
     "name": "stdout",
     "output_type": "stream",
     "text": [
      "<class 'pandas.core.frame.DataFrame'>\n",
      "Index: 69987 entries, 0 to 101765\n",
      "Data columns (total 31 columns):\n",
      " #   Column                    Non-Null Count  Dtype   \n",
      "---  ------                    --------------  -----   \n",
      " 0   race                      69987 non-null  category\n",
      " 1   gender                    69987 non-null  category\n",
      " 2   admission_type_id         69987 non-null  category\n",
      " 3   discharge_disposition_id  69987 non-null  category\n",
      " 4   admission_source_id       69987 non-null  category\n",
      " 5   time_in_hospital          69987 non-null  int64   \n",
      " 6   medical_specialty         69987 non-null  category\n",
      " 7   num_lab_procedures        69987 non-null  int64   \n",
      " 8   num_procedures            69987 non-null  int64   \n",
      " 9   num_medications           69987 non-null  int64   \n",
      " 10  number_outpatient         69987 non-null  int64   \n",
      " 11  number_emergency          69987 non-null  int64   \n",
      " 12  number_inpatient          69987 non-null  int64   \n",
      " 13  diag_1                    69987 non-null  category\n",
      " 14  diag_2                    69987 non-null  category\n",
      " 15  diag_3                    69987 non-null  category\n",
      " 16  number_diagnoses          69987 non-null  int64   \n",
      " 17  change                    69987 non-null  category\n",
      " 18  diabetesMed               69987 non-null  category\n",
      " 19  readmitted                69987 non-null  category\n",
      " 20  age-binned                69987 non-null  category\n",
      " 21  max_glu_serum_measured    69987 non-null  category\n",
      " 22  A1Cresult_measured        69987 non-null  category\n",
      " 23  repaglinide_measured      69987 non-null  category\n",
      " 24  glimepiride_measured      69987 non-null  category\n",
      " 25  rosiglitazone_measured    69987 non-null  category\n",
      " 26  pioglitazone_measured     69987 non-null  category\n",
      " 27  glyburide_measured        69987 non-null  category\n",
      " 28  glipizide_measured        69987 non-null  category\n",
      " 29  metformin_measured        69987 non-null  category\n",
      " 30  insulin_measured          69987 non-null  category\n",
      "dtypes: category(23), int64(8)\n",
      "memory usage: 6.3 MB\n"
     ]
    }
   ],
   "source": [
    "df.info()"
   ]
  },
  {
   "cell_type": "code",
   "execution_count": 28,
   "metadata": {},
   "outputs": [],
   "source": [
    "X = df.drop('readmitted', axis=1)\n",
    "y = df['readmitted']\n",
    "\n",
    "X_train, X_test, y_train, y_test = train_test_split(X, y, test_size=0.2, random_state=42, stratify=y)"
   ]
  },
  {
   "cell_type": "code",
   "execution_count": 29,
   "metadata": {},
   "outputs": [],
   "source": [
    "def evaluate_model(model, X_test, y_test):\n",
    "    y_pred = model.predict(X_test)\n",
    "    \n",
    "    # Metrics\n",
    "    accuracy = accuracy_score(y_test, y_pred)\n",
    "    precision = precision_score(y_test, y_pred, pos_label=1)\n",
    "    recall = recall_score(y_test, y_pred, pos_label=1)\n",
    "    f1 = f1_score(y_test, y_pred, pos_label=1)\n",
    "    \n",
    "    print(f\"Accuracy: {accuracy:.2f}\")\n",
    "    print(f\"Precision: {precision:.2f}\")\n",
    "    print(f\"Recall: {recall:.2f}\")\n",
    "    print(f\"F1 Score: {f1:.2f}\")\n",
    "    \n",
    "    # Confusion Matrix\n",
    "    cm = confusion_matrix(y_test, y_pred)\n",
    "    disp = ConfusionMatrixDisplay(confusion_matrix=cm, display_labels=[\"NO\", \"YES\"])\n",
    "    disp.plot(cmap=plt.cm.Blues, values_format=\"d\")\n",
    "    plt.title(\"Confusion Matrix\")\n",
    "    plt.show()"
   ]
  },
  {
   "cell_type": "code",
   "execution_count": 30,
   "metadata": {},
   "outputs": [
    {
     "name": "stdout",
     "output_type": "stream",
     "text": [
      "[LightGBM] [Info] Number of positive: 22809, number of negative: 33180\n",
      "[LightGBM] [Info] Auto-choosing row-wise multi-threading, the overhead of testing was 0.003833 seconds.\n",
      "You can set `force_row_wise=true` to remove the overhead.\n",
      "And if memory is not enough, you can set `force_col_wise=true`.\n",
      "[LightGBM] [Info] Total Bins 550\n",
      "[LightGBM] [Info] Number of data points in the train set: 55989, number of used features: 149\n",
      "[LightGBM] [Info] [binary:BoostFromScore]: pavg=0.407384 -> initscore=-0.374792\n",
      "[LightGBM] [Info] Start training from score -0.374792\n",
      "{'classifier__learning_rate': 0.1, 'classifier__max_depth': 15, 'classifier__n_estimators': 200, 'classifier__num_leaves': 31}\n",
      "Accuracy: 0.63\n",
      "Precision: 0.58\n",
      "Recall: 0.36\n",
      "F1 Score: 0.44\n"
     ]
    },
    {
     "data": {
      "image/png": "[encoded data removed]",
      "text/plain": [
       "<Figure size 640x480 with 2 Axes>"
      ]
     },
     "metadata": {},
     "output_type": "display_data"
    }
   ],
   "source": [
    "categorical_cols = X.select_dtypes(include=[\"category\"]).columns\n",
    "numerical_cols = X.select_dtypes(include=[\"int64\", \"float64\"]).columns\n",
    "\n",
    "numerical_transformer = SimpleImputer(strategy=\"median\")\n",
    "categorical_transformer = Pipeline(steps=[\n",
    "    (\"imputer\", SimpleImputer(strategy=\"most_frequent\")),\n",
    "    (\"encoder\", OneHotEncoder(handle_unknown=\"ignore\"))\n",
    "])\n",
    "\n",
    "preprocessor = ColumnTransformer(transformers=[\n",
    "    (\"num\", numerical_transformer, numerical_cols),\n",
    "    (\"cat\", categorical_transformer, categorical_cols)\n",
    "])\n",
    "\n",
    "pipeline = Pipeline(steps=[\n",
    "    (\"preprocessor\", preprocessor),\n",
    "    (\"classifier\", LGBMClassifier(random_state=42))\n",
    "])\n",
    "\n",
    "param_grid = {\n",
    "    \"classifier__num_leaves\": [15, 31, 63],  \n",
    "    \"classifier__learning_rate\": [0.01, 0.1, 0.2],  \n",
    "    \"classifier__n_estimators\": [50, 100, 200],\n",
    "    \"classifier__max_depth\": [5, 10, 15]\n",
    "}\n",
    "\n",
    "grid_search = GridSearchCV(\n",
    "    estimator=pipeline,\n",
    "    param_grid=param_grid,\n",
    "    scoring=\"accuracy\",\n",
    "    cv=3,\n",
    "    n_jobs=-1\n",
    ")\n",
    "\n",
    "grid_search.fit(X_train, y_train)\n",
    "print(grid_search.best_params_)\n",
    "\n",
    "best_model = grid_search.best_estimator_\n",
    "\n",
    "evaluate_model(best_model, X_test, y_test)"
   ]
  }
 ],
 "metadata": {
  "kernelspec": {
   "display_name": "Python 3",
   "language": "python",
   "name": "python3"
  },
  "language_info": {
   "codemirror_mode": {
    "name": "ipython",
    "version": 3
   },
   "file_extension": ".py",
   "mimetype": "text/x-python",
   "name": "python",
   "nbconvert_exporter": "python",
   "pygments_lexer": "ipython3",
   "version": "3.12.4"
  }
 },
 "nbformat": 4,
 "nbformat_minor": 2
}
