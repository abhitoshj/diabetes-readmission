{
 "cells": [
  {
   "cell_type": "code",
   "execution_count": null,
   "metadata": {},
   "outputs": [],
   "source": [
    "import os\n",
    "import pandas as pd\n",
    "import numpy as np\n"
   ]
  },
  {
   "cell_type": "markdown",
   "metadata": {},
   "source": [
    "We will be using two csv files for this project\n",
    "- *diabetic_data.csv:* This file contains the dataset that shall be used for training the model for this project.\n",
    "- *IDs_mapping.csv:* This file contains various Id mappings "
   ]
  },
  {
   "cell_type": "code",
   "execution_count": 15,
   "metadata": {},
   "outputs": [],
   "source": [
    "data_dir = os.path.join(os.getcwd(), '../Dataset')\n",
    "\n",
    "raw_data_dir = os.path.join(data_dir, 'raw')\n",
    "ids_mapping = os.path.join(raw_data_dir, 'IDS_mapping.csv')\n",
    "diabetes_data = os.path.join(raw_data_dir, 'diabetic_data.csv')\n",
    "\n",
    "# Temporary-files created (based on the definition document) for the respective attribute/feature\n",
    "working_dir = os.path.join(os.getcwd(), '../Temp')\n",
    "mapping_data_dir = os.path.join(working_dir, 'Mapping')\n",
    "os.makedirs(mapping_data_dir, exist_ok=True)\n",
    "\n",
    "admission_type_mapping_data = os.path.join(mapping_data_dir, 'admission_type_mapping.csv')\n",
    "discharge_disposition_data = os.path.join(mapping_data_dir, 'discharge_disposition_mapping.csv')\n",
    "admission_source_mapping_data = os.path.join(mapping_data_dir, 'admission_source_mapping.csv')"
   ]
  },
  {
   "cell_type": "code",
   "execution_count": null,
   "metadata": {},
   "outputs": [],
   "source": []
  },
  {
   "cell_type": "markdown",
   "metadata": {},
   "source": [
    "Lets create a mapping of codes to their meanings."
   ]
  },
  {
   "cell_type": "code",
   "execution_count": 16,
   "metadata": {},
   "outputs": [],
   "source": [
    "with open(ids_mapping, 'r') as file:\n",
    "    lines = file.readlines()\n",
    "\n",
    "# Identify the indices where the lines contain only a comma\n",
    "split_indices = [i for i, line in enumerate(lines) if line.strip() == ',']\n",
    "\n",
    "# Split the list of lines into three parts based on these indices\n",
    "admission_type_lines = lines[:split_indices[0]]\n",
    "discharge_disposition_lines = lines[split_indices[0] + 1:split_indices[1]]\n",
    "admission_source_lines = lines[split_indices[1] + 1:]\n",
    "\n",
    "# Write each part to a separate CSV file\n",
    "with open(admission_type_mapping_data, 'w') as file:\n",
    "    file.writelines(admission_type_lines)\n",
    "\n",
    "with open(discharge_disposition_data, 'w') as file:\n",
    "    file.writelines(discharge_disposition_lines)\n",
    "\n",
    "with open(admission_source_mapping_data, 'w') as file:\n",
    "    file.writelines(admission_source_lines)\n",
    "\n",
    "# Read the three CSV files into DataFrames\n",
    "admission_type_df = pd.read_csv(admission_type_mapping_data)\n",
    "discharge_disposition_df = pd.read_csv(discharge_disposition_data)\n",
    "admission_source_df = pd.read_csv(admission_source_mapping_data)"
   ]
  },
  {
   "cell_type": "markdown",
   "metadata": {},
   "source": [
    "Copy the mapping files to repository"
   ]
  },
  {
   "cell_type": "code",
   "execution_count": 21,
   "metadata": {},
   "outputs": [],
   "source": [
    "!cp '../Temp/Mapping/admission_source_mapping.csv' '../Dataset/mappings/'\n",
    "!cp '../Temp/Mapping/admission_type_mapping.csv' '../Dataset/mappings/'\n",
    "!cp '../Temp/Mapping/discharge_disposition_mapping.csv' '../Dataset/mappings/'"
   ]
  }
 ],
 "metadata": {
  "kernelspec": {
   "display_name": ".venv",
   "language": "python",
   "name": "python3"
  },
  "language_info": {
   "codemirror_mode": {
    "name": "ipython",
    "version": 3
   },
   "file_extension": ".py",
   "mimetype": "text/x-python",
   "name": "python",
   "nbconvert_exporter": "python",
   "pygments_lexer": "ipython3",
   "version": "3.12.1"
  }
 },
 "nbformat": 4,
 "nbformat_minor": 2
}
